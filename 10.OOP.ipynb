{
 "cells": [
  {
   "cell_type": "markdown",
   "metadata": {},
   "source": [
    "# 0.OOP---Python面向对象\n",
    "\n",
    "    ·Python的面向对象\n",
    "        ·面向对象编程\n",
    "            ·基础\n",
    "            ·共有、私有\n",
    "            ·继承\n",
    "            ·组合、Mibxi\n",
    "        ·魔法函数\n",
    "            ·魔法函数概述\n",
    "            ·构造类魔法函数\n",
    "            ·运算类魔法函数\n",
    "            \n",
    "# 1.面向对象概述（ObjectOriented，OO） \n",
    "\n",
    "    ·OOP思想\n",
    "        ·接触到任意一个任务，首先想到的是任务这个世界的构成，是由模型构成的\n",
    "        ·几个名词\n",
    "            ·OO：面向对象\n",
    "            ·OOA：面向对象的分析\n",
    "            ·OOD：面向对象的设计\n",
    "            ·OOI：面向对象的实现\n",
    "            ·OOP：面向对象的编程\n",
    "            ·OOA->OOD->OOI：面向对象的实现过程\n",
    "    ·类和对象的概念\n",
    "        ·类：抽象名词，代表一个集合，共性的事物\n",
    "        ·对象：具体的事物，单个个体\n",
    "        ·类和对象的关系\n",
    "            ·一个具象，代表一类事物的某一个个体\n",
    "            ·一个抽象，代表的是一大类事物\n",
    "        ·类中的内容：\n",
    "            ·表明事物的特性，叫做属性（变量）\n",
    "            ·表明事物功能或动作、称为成员方法（函数）\n",
    "            \n",
    "# 2.类的基本实现\n",
    "\n",
    "    `类的命名\n",
    "        ·遵守变量命名的规范\n",
    "        ·大驼峰（由一个或者多个单词构成，每个单词首字母大写，单词跟单词直接相连）\n",
    "        ·尽量避开跟系统命名相似的命名\n",
    "    ·如何声明一个类？\n",
    "        ·必须用class关键字\n",
    "        ·类由属性和方法构成，其他不允许出现\n",
    "        ·成员属性直接使用变量赋值，如果没有值，使用None\n",
    "        ·案例  01.py.\n",
    "      ·实例化类\n",
    "            变量 = 类名（）#实例化了一个对象\n",
    "        ·访问对象成员\n",
    "            ·使用点操作符\n",
    "                obj.成员属性名称\n",
    "                obj.成员方法\n",
    "            ·可以通过默认内置变量检查类和对象的所有成员\n",
    "                ·对象所有成员检查\n",
    "                \n",
    "                    #dict前后各有两个下划线\n",
    "                    class_name._dict_  \n",
    "        \n",
    "# 3.anaconda基本使用\n",
    "\n",
    "    ·anaconda主要是一个虚拟环境管理器\n",
    "    ·还是一个安装包管理器\n",
    "    ·conda list：显示anaconda安装的包\n",
    "    ·conda env list：显示anaconda的虚拟环境列表\n",
    "    ·conda create -n xxx python=3.6:创建python版本为3.6的虚拟环境，名称为xxx\n",
    "    \n",
    "# 4.类和对象的成员分析\n",
    "\n",
    "    ·类和对象都可以存储成员，成员可以归类所有，也可以归对象所有\n",
    "    ·类存储成员时使用的是与类关联的一个对象\n",
    "    ·独享存储成员时是存储在当前对象中\n",
    "    ·对象访问一个成员是：如果对象中没有该成员，尝试访问类中的同名成员，如果对象中有此成员，一定使用对象中的成员          \n",
    "    ·创建对象时，类中的成员不会放入队形中，而是得到一个空对象，没有成员\n",
    "    ·通过对象对类中成员重新赋值或者通过对象添加成员时，对应成员会保存在对象中，而不会修改类成员\n",
    "    \n",
    "# 5.关于self\n",
    "\n",
    "    ·self在对象的方法中表示当前对象本身，如果通过对象调用一个方法，那么该对象会自动转入到当前方法的第一个参数中\n",
    "    ·self并不是关键字，只是一个用于接受对象的普通参数，理论上可以用任何一个普通变量名代替\n",
    "    ·方法中有self形参的方法称为非绑定类的方法，可以通过对象访问\n",
    "    ·没有self的是绑定类的方法，只能通过类访问\n",
    "    ·使用类访问绑定类方法时，如果类方法中需要访问当前类的成员，可以通过__class__成员名来访问  \n",
    "    \n",
    "# 6.面向对象的三大特性\n",
    "\n",
    "    ·封装\n",
    "    ·继承\n",
    "    ·多态\n",
    "    \n",
    "   ## 6.1.封装\n",
    "   \n",
    "    ·封装就是对对象的成员进行访问限制\n",
    "    ·封装的三个级别：\n",
    "        ·公开的，Public\n",
    "        ·受保护的，protected\n",
    "        ·私有的，private\n",
    "        ·public，private，protected不是关键字\n",
    "    ·判别对象的位置：\n",
    "        ·对象内部\n",
    "        ·对象外部\n",
    "        ·子类中\n",
    "    ·私有\n",
    "        ·私有成员是最高级别的封装，只能在当前类或对象中访问\n",
    "        ·在成员前面添加两个下划线即可\n",
    "            class person():\n",
    "                #name为共有成员变量\n",
    "                name = \"dana\"\n",
    "                 #__age为私有成员变量\n",
    "                __age = 18\n",
    "            p = person()\n",
    "            print(p.name) \n",
    "               \n",
    "        ·python的私有不是真私有，是一种称为name mangling的改名策略，可以使用对象名._classname_attributename访问\n",
    "    ·受保护的封装 protect\n",
    "        ·受保护的封装是将对象成员进行一定级别的封装，然后在类中或子类中都可以进行访问，但是在外部不可以\n",
    "        ·封装方法：在成员名称前面添加一个下划线即可\n",
    "    ·公开的封装 public\n",
    "        ·公共的封装实际对成员没有任何操作，任何地方都可以访问\n",
    "        \n",
    " ## 6.2继承     \n",
    "  \n",
    "      ·继承就是一个类可以获得另一个类中的成员属性和成员方法\n",
    "      ·作用： 减少代码，增加代码的复用功能， 同时可以设置类与类直接的关系\n",
    "      ·继承与被继承的概念：\n",
    "        ·被继承的类叫父类，也叫基类，也叫超类\n",
    "        ·用于继承的类，叫子类，也叫派生类\n",
    "        ·继承与被继承一定存在一个 is-a 关系\n",
    "      ·继承的语法，参见oop-2.ipynb\n",
    "      ·继承的特征\n",
    "        ·所有的类都继承自object类，即所有的类都是object类的子类\n",
    "        ·子类一旦继承父类，则可以使用父类中除私有成员外的所有内容，可以继承公共的和受保护的\n",
    "        ·子类继承父类后并没有将父类成员完全赋值到子类中，而是通过引用关系访问调用\n",
    "        ·子类中可以定义独有的成员属性和方法\n",
    "        ·子类中定义的成员和父类成员如果相同，则优先使用子类成员\n",
    "        ·子类如果想扩充父类的方法，可以在定义新方法的同时访问父类成员来进行代码重用， \n",
    "          可以使用 [父类名.父类成员] 的格式来调用父类成员，也可以使用super().父类成员的 格式来调用\n",
    "      ·继承变量函数的查找顺序问题\n",
    "        ·优先查找自己的变量\n",
    "        ·没有则查找父类\n",
    "        ·构造函数如果本类中没有定义，则自动查找调用父类构造函数\n",
    "        ·如果本类有定义，则不在继续向上查找\n",
    "      ·构造函数\n",
    "        ·是一类特殊的函数，在类进行实例化之前进行调用\n",
    "        ·如果定义了构造函数，则实例化时使用构造函数，不查找父类构造函数\n",
    "        ·如果没定义，则自动查找父类构造函数\n",
    "        ·如果子类没定义，父类的构造函数带参数，则构造对象时的参数应该按父类参数构造\n",
    "      ·super\n",
    "        ·super不是关键字， 而是一个类\n",
    "        ·super的作用是获取MRO（MethodResolustionOrder）列表中的第一个类\n",
    "        ·super于父类直接没任何实质性关系，但通过super可以调用到父类\n",
    "        ·super使用两个方法,参见在构造函数中调用父类的构造函数\n",
    "        \n",
    "      ·单继承和多继承\n",
    "      \n",
    "        ·单继承：每个类只能继承一个类\n",
    "        ·多继承，每个类允许继承多个类\n",
    "        ·单继承和多继承的优缺点\n",
    "            ·单继承：\n",
    "                ·传承有序、逻辑清晰语法简单隐患少呀\n",
    "                ·功能不能无限扩展，只能在当前唯一的继承链中扩展\n",
    "            ·多继承：\n",
    "                 ·优点：类的功能扩展方便\n",
    "                 ·缺点：继承关系混乱\n",
    "      ·菱形继承/钻石继承问题\n",
    "        ·多个子类继承自同一个父类，这些子类由被同一个类继承，于是继承关系图形成一个菱形图谱 ->继承混乱\n",
    "        ·MRO：https://www.cnblogs.com/whatisfantasy/p/6046991.html\n",
    "        ·关于多继承的MRO\n",
    "            ·MRO就是多继承中，用于保存继承顺序的一个列表\n",
    "            ·python本身采用C3算法来多多继承的菱形继承进行计算的结果\n",
    "            ·MRO列表的计算原则：\n",
    "                ·子类永远在父类前面\n",
    "                ·如果多个父类，则根据继承语法中括号内类的书写顺序存放\n",
    "                ·如果多个类继承了同一个父类，孙子类中只会选取继承语法括号中第一个父类的父类\n",
    "        ·在使用时，不推荐多继承\n",
    "      ·构造函数\n",
    "        ·在对象进行实例化的时候，系统自动调用的一个函数叫构造函数，通常此函数用来对实例对象进行初始化，顾名\n",
    "        ·构造函数一定要有，如果没有，则自动向上查找，按照MRO顺序，直到找到为止\n",
    "        \n",
    "## 6.3 多态\n",
    "    \n",
    "     ·多态就是同一个对象在不同情况下有不同的状态出现\n",
    "     ·多态不是语法，是一种设计思想\n",
    "     ·多态性： 一种调用方式，不同的执行效果\n",
    "     ·多态： 同一事物的多种形态，动物分为人类，狗类，猪类\n",
    "     ·多态和多态性：https://www.cnblogs.com/luchuangao/p/6739557.html\n",
    "     ·Mixin设计模式\n",
    "        ·主要采用多继承方式对类的功能进行扩展\n",
    "        ·Mixin概念：https://www.zhihu.com/question/20778853\n",
    "        ·MRO and Mixin：https://github.com/tulingxueyuan/CookBook_and_code/blob/master/1-python基础/2-OOP/note.md\n",
    "        ·Mixin模式：https://github.com/tulingxueyuan/CookBook_and_code/blob/master/1-python基础/2-OOP/note.md\n",
    "        ·Mixin MRO：http://runforever.github.io/2014-07-19/2014-07-19-python-mixin学习笔记/\n",
    "        ·MRO：http://xiaocong.github.io/blog/2012/06/13/python-mixin-and-mro/\n",
    "        \n",
    "     ·我们使用多继承语法来实现Minxin\n",
    "     ·使用Mixin实现多继承的时候非常小心\n",
    "        ·首先他必须表示某一单一功能，而不是某个物品\n",
    "        ·职责必须单一，如果由多个功能，则写多个Mixin\n",
    "        ·Mixin不能依赖于子类的实现\n",
    "        ·子类即使没有继承这个Mixin类， 也能照样工作，只是缺少了某个功能\n",
    "     ·优点\n",
    "        ·使用Mixin可以在不对类进行任何修改的情况下，扩充功能\n",
    "        ·可以方便的组织和维护不同功能组件的划分\n",
    "        ·可以根据需要任意调整功能类的组合\n",
    "        ·可以避免创建很多新的类，导致类的继承混乱\n",
    "        \n",
    "# 7.类相关函数\n",
    "    \n",
    "       issubclass:检测一个类是否是另一个类的子类\n",
    "       isinstance:检测一个对象是否是一个类的实例\n",
    "       hasattr:检测一个对象是否由成员xxx\n",
    "       getattr: get attribute\n",
    "       setattr: set attribute\n",
    "       delattr: delete attribute\n",
    "       dir: 获取对象的成员列表\n",
    "       \n",
    "# 8. 类的成员描述符（属性）\n",
    "\n",
    "       ·类的成员描述符是为了在类中对类的成员属性进行相关操作而创建的一种方式\n",
    "        ·get： 获取属性的操作\n",
    "        ·set：修改或者添加属性操作\n",
    "        ·delete： 删除属性的操作\n",
    "       ·如果想使用类的成员描述符，大概有三种方法\n",
    "        ·使用类实现描述器\n",
    "        ·使用属性修饰符\n",
    "        ·使用property函数\n",
    "            ·property函数很简单\n",
    "            ·property(fget, fset, fdel, doc)\n",
    "        ·案例参看notebook\n",
    "    ·无论哪种修饰符都是为了对成员属性进行相应的控制\n",
    "    ·类的方式： 适合多个类中的多个属性共用用一个描述符\n",
    "    ·property：使用当前类中使用，可以控制一个类中多个属性\n",
    "    ·属性修饰符： 使用于当前类中使用，控制一个类中的一个属性\n",
    "    \n",
    "# 9. 类的内置属性\n",
    "    ·__dict__:以字典的方式显示类的成员组成\n",
    "    ·__doc__: 获取类的文档信息\n",
    "    ·__name__:获取类的名称，如果在模块中使用，获取模块的名称\n",
    "    ·__bases__: 获取某个类的所有父类，以元组的方式显示\n",
    "    \n",
    "# 10. 类的常用魔术方法\n",
    "\n",
    "    ·魔术方法就是不需要人为调用的方法，基本是在特定的时刻自动触发\n",
    "    ·魔术方法的统一的特征，方法名被前后各两个下滑线包裹\n",
    "    ·操作类\n",
    "        ·__init__: 构造函数\n",
    "        ·__new__: 对象实例化方法，此函数较特殊，一般不需要使用\n",
    "        ·__call__: 对象当函数使用的时候触发\n",
    "        ·__str__: 当对象被当做字符串使用的时候调用\n",
    "        ·__repr__: 返回字符串，跟__str__具体区别请百度\n",
    "    ·描述符相关\n",
    "        ·__set__\n",
    "        ·__get__\n",
    "        ·__delete__\n",
    "    ·属性操作相关\n",
    "        ·__getattr__: 访问一个不存在的属性时触发\n",
    "        ·__setattr__: 对成员属性进行设置的时候触发\n",
    "            ·参数：\n",
    "                ·self用来获取当前对象\n",
    "                ·被设置的属性名称，以字符串形式出现\n",
    "                ·需要对属性名称设置的值\n",
    "            ·作用：进行属性设置的时候进行验证或者修改\n",
    "            ·注意： 在该方法中不能对属性直接进行赋值操作，否则死循环\n",
    "        参看案例\n",
    "    ·运算分类相关魔术方法\n",
    "        ·__gt__: 进行大于判断的时候触发的函数\n",
    "        ·参数：\n",
    "            ·self\n",
    "            ·第二个参数是第二个对象\n",
    "            ·返回值可以是任意值，推荐返回布尔值\n",
    "        ·案例\n",
    "        \n",
    "# 11. 类和对象的三种方法\n",
    "\n",
    "    ·实例方法\n",
    "        ·需要实例化对象才能使用的方法，使用过程中可能需要截止对象的其他对象的方法完成\n",
    "    ·静态方法\n",
    "        ·不需要实例化，通过类直接访问\n",
    "    ·类方法\n",
    "        ·不需要实例化\n",
    "    参看案例\n",
    "    三个方法具体区别自行百度\n",
    "\n",
    "# 12. 所用软件\n",
    "       \n",
    "    画图软件是Faststone capture\n",
    "    有问题加群 158184562\n",
    "    官网地址 www.tulingxueyuan.com\n",
    "    \n",
    "# 13. 抽象类\n",
    "\n",
    "   ·抽象方法： 没有具体实现内容的方法成为抽象方法\n",
    "   ·抽象方法的主要意义是规范了子类的行为和接口\n",
    "   ·抽象类的使用需要借助abc模块\n",
    "        \n",
    "        ·import abc\n",
    "        \n",
    "   ·抽象类：包含抽象方法的类叫抽象类，通常成为ABC类\n",
    "   ·抽象类的使用\n",
    "        ·抽象类可以包含抽象方法，也可以包含具体方法\n",
    "        ·抽象类中可以有方法也可以有属性\n",
    "        ·抽象类不允许直接实例化\n",
    "        ·必须继承才可以使用，且继承的子类必须实现所有继承来的抽象方法\n",
    "        ·假定子类没有实现所有继承的抽象方法，则子类也不能实例化\n",
    "        ·抽象类的主要作用是设定类的标准，以便于开发的时候具有统一的规范\n",
    "#14. 自定义类\n",
    "\n",
    "    ·类其实是一个类定义和各种方法的自由组合\n",
    "    ·可以定义类和函数，然后自己通过类直接赋值\n",
    "    ·可以借助于MethodType实现\n",
    "    ·借助于type实现\n",
    "    ·利用元类实现- MetaClass\n",
    "    ·元类是类\n",
    "    ·备用来创造别的类\n",
    "  \n",
    "        \n",
    " \n",
    "            \n",
    "            \n",
    "     \n",
    "            \n",
    "    "
   ]
  },
  {
   "cell_type": "code",
   "execution_count": 1,
   "metadata": {},
   "outputs": [
    {
     "name": "stdout",
     "output_type": "stream",
     "text": [
      "None\n",
      "18\n",
      "I 在做作业\n"
     ]
    }
   ],
   "source": [
    "'''\n",
    "定义一个学生类，用来形容学生\n",
    "'''\n",
    "# 定义一个空的类\n",
    "class Student():\n",
    "    #一个空类，pass代表直接跳过\n",
    "    pass\n",
    "\n",
    "\n",
    "#定义一个对象\n",
    "mingyue = Student()\n",
    "\n",
    "#再定义一个类，用来描述听课的学生\n",
    "class PythonStudent():\n",
    "    #用None给不确定的值赋值\n",
    "    name = None\n",
    "    age = 18\n",
    "    course = \"Python\"\n",
    "\n",
    "    #需要注意的是\n",
    "    #1.def doHomework的缩进层级\n",
    "    #2.系统默认由一个self参数\n",
    "    def doHomework(self):\n",
    "        print(\"I 在做作业\")\n",
    "\n",
    "\n",
    "        #推荐在函数末尾加return语句\n",
    "        return None\n",
    "#实例化一个叫yueyue的学生，是一个具体的人\n",
    "yueyue = PythonStudent()\n",
    "print(yueyue.name)\n",
    "print(yueyue.age)\n",
    "\n",
    "#注意成员函数的调用没有传递进入参数\n",
    "yueyue.doHomework()\n"
   ]
  },
  {
   "cell_type": "code",
   "execution_count": 2,
   "metadata": {},
   "outputs": [
    {
     "data": {
      "text/plain": [
       "mappingproxy({'__dict__': <attribute '__dict__' of 'A' objects>,\n",
       "              '__doc__': None,\n",
       "              '__module__': '__main__',\n",
       "              '__weakref__': <attribute '__weakref__' of 'A' objects>,\n",
       "              'age': 18,\n",
       "              'name': 'dana'})"
      ]
     },
     "execution_count": 2,
     "metadata": {},
     "output_type": "execute_result"
    }
   ],
   "source": [
    "class A () :\n",
    "    name = \"dana\"\n",
    "    age = 18\n",
    "    \n",
    "\n",
    "A.__dict__  "
   ]
  },
  {
   "cell_type": "code",
   "execution_count": 3,
   "metadata": {},
   "outputs": [
    {
     "name": "stdout",
     "output_type": "stream",
     "text": [
      "dana\n",
      "18\n"
     ]
    }
   ],
   "source": [
    "class Student () :\n",
    "    name = \"dana\"\n",
    "    age = 18\n",
    "    \n",
    "\n",
    "Student.__dict__ \n",
    "#实例化\n",
    "yueyue =Student()\n",
    "yueyue.__dict__\n",
    "print(yueyue.name)\n",
    "print(yueyue.age)"
   ]
  },
  {
   "cell_type": "code",
   "execution_count": 4,
   "metadata": {},
   "outputs": [
    {
     "name": "stdout",
     "output_type": "stream",
     "text": [
      "dana\n",
      "18\n",
      "##################################################\n",
      "87718408\n",
      "1867739136\n",
      "##################################################\n",
      "dana\n",
      "18\n",
      "87718408\n",
      "1867739136\n"
     ]
    }
   ],
   "source": [
    "#该案例说明，类实例的属性和其对象实例的属性在不对对象实例的属性赋值的前提下，指向同一个变量\n",
    "class A():\n",
    "    name = \"dana\"\n",
    "    age = 18\n",
    "    #注意say的写法，参数有一个self,相当于C++中的this\n",
    "    def say(self):\n",
    "        self.name = \"aaaa\"\n",
    "        self.age = 200\n",
    "        \n",
    "#此时，A称为类实例        \n",
    "print(A.name)\n",
    "print(A.age)\n",
    "print(\"#\"*50)\n",
    "\n",
    "#id可以鉴别一个变量是否和另一个变量是同一变量\n",
    "print(id(A.name))\n",
    "print(id(A.age))\n",
    "print(\"#\"*50)\n",
    "\n",
    "#A这一类事物里的一个具体的a\n",
    "a=A()\n",
    "print(a.name)\n",
    "print(a.age)\n",
    "print(id(a.name))\n",
    "print(id(a.age))\n",
    "\n"
   ]
  },
  {
   "cell_type": "code",
   "execution_count": 5,
   "metadata": {},
   "outputs": [
    {
     "name": "stdout",
     "output_type": "stream",
     "text": [
      "dana\n",
      "18\n",
      "##################################################\n",
      "87718408\n",
      "1867739136\n",
      "##################################################\n",
      "{'__module__': '__main__', 'name': 'dana', 'age': 18, 'say': <function A.say at 0x000000000324E9D8>, '__dict__': <attribute '__dict__' of 'A' objects>, '__weakref__': <attribute '__weakref__' of 'A' objects>, '__doc__': None}\n",
      "{}\n",
      "{'name': 'yaona', 'age': 16}\n",
      "yaona\n",
      "16\n",
      "87717624\n",
      "1867739072\n"
     ]
    }
   ],
   "source": [
    "#此时，A称为类实例        \n",
    "print(A.name)\n",
    "print(A.age)\n",
    "print(\"#\"*50)\n",
    "\n",
    "#id可以鉴别一个变量是否和另一个变量是同一变量\n",
    "print(id(A.name))\n",
    "print(id(A.age))\n",
    "print(\"#\"*50)\n",
    "\n",
    "#A这一类事物里的一个具体的a\n",
    "a =A()\n",
    "#查看A内所有属性\n",
    "print(A.__dict__)\n",
    "print(a.__dict__)\n",
    "\n",
    "a.name = \"yaona\"\n",
    "a.age = 16\n",
    "print(a.__dict__)\n",
    "\n",
    "print(a.name)\n",
    "print(a.age)\n",
    "print(id(a.name))\n",
    "print(id(a.age))"
   ]
  },
  {
   "cell_type": "code",
   "execution_count": 11,
   "metadata": {},
   "outputs": [
    {
     "name": "stdout",
     "output_type": "stream",
     "text": [
      "My name is aaaa\n",
      "My age is 200\n",
      "My name is aaaa\n",
      "My age is 200\n"
     ]
    }
   ],
   "source": [
    "\n",
    "class Student():\n",
    "    name = \"dana\"\n",
    "    age = 18\n",
    "    #注意say的写法，参数有一个self,相当于C++中的this\n",
    "    def say(self):\n",
    "        self.name = \"aaaa\"\n",
    "        self.age = 200\n",
    "        print(\"My name is {0}\".format(self.name))\n",
    "        print(\"My age is {0}\".format(self.age))\n",
    "        \n",
    "     #self本身不是关键字   \n",
    "    def sayagain(s):\n",
    "       \n",
    "        print(\"My name is {0}\".format(s.name))\n",
    "        print(\"My age is {0}\".format(s.age))\n",
    "        \n",
    "\n",
    "yueyue = Student()\n",
    "yueyue.say()\n",
    "yueyue.sayagain()\n"
   ]
  },
  {
   "cell_type": "code",
   "execution_count": 18,
   "metadata": {},
   "outputs": [
    {
     "name": "stdout",
     "output_type": "stream",
     "text": [
      "My name is aaaa\n",
      "My age is 200\n",
      "My age is 18\n",
      "dana\n",
      "18\n",
      "hello,nice to meet you\n"
     ]
    }
   ],
   "source": [
    "class teacher():\n",
    "    name = \"dana\"\n",
    "    age = 18\n",
    "    \n",
    "    def say(self):\n",
    "        self.name = \"aaaa\"\n",
    "        self.age = 200\n",
    "        print(\"My name is {0}\".format(self.name))\n",
    "        \n",
    "        print(\"My age is {0}\".format(self.age))\n",
    "        #调用类的成员变量需要用__class__\n",
    "        print(\"My age is {0}\".format(__class__.age))\n",
    "        \n",
    "    def sayagain():\n",
    "        print(__class__.name)\n",
    "        print(__class__.age)\n",
    "        print(\"hello,nice to meet you\")\n",
    "        \n",
    "t = teacher()\n",
    "t.say()\n",
    "\n",
    "\n",
    "#调用绑定类函数使用类名\n",
    "teacher.sayagain()\n",
    "#t.sayagain()"
   ]
  },
  {
   "cell_type": "code",
   "execution_count": 25,
   "metadata": {},
   "outputs": [
    {
     "name": "stdout",
     "output_type": "stream",
     "text": [
      "aaa\n",
      "200\n",
      "aaa\n",
      "200\n",
      "cherry\n",
      "18\n",
      "bbb\n",
      "90\n"
     ]
    }
   ],
   "source": [
    "#关于self的案例\n",
    "\n",
    "class A():\n",
    "    name = \"cherry\"\n",
    "    age = 18\n",
    "    \n",
    "    def __init__(self):\n",
    "        self.name = \"aaa\"\n",
    "        self.age = 200\n",
    "        \n",
    "    def say(self):\n",
    "        print(self.name)\n",
    "        print(self.age)\n",
    "class B():  \n",
    "    name = \"bbb\"\n",
    "    age = 90\n",
    "\n",
    "a =A()\n",
    "#此时，系统会默认把a作为第一个参数传入函数\n",
    "a.say()\n",
    "\n",
    "#此时，self被a替换\n",
    "A.say(a)\n",
    "#同样可以把A作为参数传入\n",
    "A.say(A)\n",
    "#同样可以把B作为参数传入\n",
    "#此时，传入的是实例B，因为B具有name和age属性，所以不会报错\n",
    "A.say(B)\n",
    "#以上代码，利用了鸭子模型"
   ]
  },
  {
   "cell_type": "code",
   "execution_count": 17,
   "metadata": {},
   "outputs": [
    {
     "name": "stdout",
     "output_type": "stream",
     "text": [
      "liuying\n"
     ]
    },
    {
     "ename": "AttributeError",
     "evalue": "'Person' object has no attribute '__age'",
     "output_type": "error",
     "traceback": [
      "\u001b[1;31m---------------------------------------------------------------------------\u001b[0m",
      "\u001b[1;31mAttributeError\u001b[0m                            Traceback (most recent call last)",
      "\u001b[1;32m<ipython-input-17-349b47e1eb8c>\u001b[0m in \u001b[0;36m<module>\u001b[1;34m()\u001b[0m\n\u001b[0;32m     11\u001b[0m \u001b[0mprint\u001b[0m\u001b[1;33m(\u001b[0m\u001b[0mp\u001b[0m\u001b[1;33m.\u001b[0m\u001b[0mname\u001b[0m\u001b[1;33m)\u001b[0m\u001b[1;33m\u001b[0m\u001b[0m\n\u001b[0;32m     12\u001b[0m \u001b[1;31m# __age是私有变量\u001b[0m\u001b[1;33m\u001b[0m\u001b[1;33m\u001b[0m\u001b[0m\n\u001b[1;32m---> 13\u001b[1;33m \u001b[0mprint\u001b[0m\u001b[1;33m(\u001b[0m\u001b[0mp\u001b[0m\u001b[1;33m.\u001b[0m\u001b[0m__age\u001b[0m\u001b[1;33m)\u001b[0m\u001b[1;33m\u001b[0m\u001b[0m\n\u001b[0m",
      "\u001b[1;31mAttributeError\u001b[0m: 'Person' object has no attribute '__age'"
     ]
    }
   ],
   "source": [
    "# 私有变量案例\n",
    "\n",
    "class Person():\n",
    "                # name是共有的成员 \n",
    "                name = \"liuying\"\n",
    "                # __age就是私有成员\n",
    "                __age = 18\n",
    "                \n",
    "p = Person()\n",
    "# name是公有变量\n",
    "print(p.name)\n",
    "# __age是私有变量\n",
    "print(p.__age)"
   ]
  },
  {
   "cell_type": "code",
   "execution_count": 8,
   "metadata": {},
   "outputs": [
    {
     "name": "stdout",
     "output_type": "stream",
     "text": [
      "{'__module__': '__main__', 'name': 'liuying', '_Person__age': 18, '__dict__': <attribute '__dict__' of 'Person' objects>, '__weakref__': <attribute '__weakref__' of 'Person' objects>, '__doc__': None}\n",
      "19\n"
     ]
    }
   ],
   "source": [
    "# name mangling技术\n",
    "print(Person.__dict__)\n",
    "\n",
    "p._Person__age = 19\n",
    "print(p._Person__age)"
   ]
  },
  {
   "cell_type": "code",
   "execution_count": 9,
   "metadata": {},
   "outputs": [
    {
     "name": "stdout",
     "output_type": "stream",
     "text": [
      "NoName\n",
      "NoName\n"
     ]
    }
   ],
   "source": [
    "#继承的语法\n",
    "#在Python中，任何类都有一个共同的父类叫object\n",
    "class Person():\n",
    "    name = \"NoName\"\n",
    "    age = 0\n",
    "    def sleep(self):\n",
    "        print(\"sleeping……\")\n",
    "        \n",
    "        \n",
    "#父类写在括号内\n",
    "class Teacher(Person):\n",
    "    def make_test(self):\n",
    "    pass\n",
    "t = Teacher()\n",
    "print(t.name)\n",
    "print(Teacher.name)"
   ]
  },
  {
   "cell_type": "code",
   "execution_count": 1,
   "metadata": {},
   "outputs": [
    {
     "name": "stdout",
     "output_type": "stream",
     "text": [
      "NoName\n",
      "sec\n",
      "sleeping……\n",
      "9756\n",
      "attention\n"
     ]
    }
   ],
   "source": [
    "#继承的语法\n",
    "#在Python中，任何类都有一个共同的父类叫object\n",
    "class Person():\n",
    "    name = \"NoName\"\n",
    "    __score = 0#成绩是秘密，只有自己知道\n",
    "    _petname =\"sec\"#小名，是保护的，子类可以用，但不能公用\n",
    "    def sleep(self):\n",
    "        print(\"sleeping……\")\n",
    "        \n",
    "        \n",
    "#父类写在括号内\n",
    "class Teacher(Person):\n",
    "    teacher_id = \"9756\"\n",
    "    def make_test(self):\n",
    "        print(\"attention\")\n",
    "t = Teacher()\n",
    "print(t.name)\n",
    "#小名是私有的，不能直接访问，这里为什么可以直接访问\n",
    "print(t._petname)\n",
    "\n",
    "#私有访问问题，公开访问私有变量，报错\n",
    "#print(t.__score)\n",
    "t.sleep()\n",
    "print(t.teacher_id)\n",
    "t.make_test()\n",
    "#print(Teacher.name)"
   ]
  },
  {
   "cell_type": "code",
   "execution_count": 2,
   "metadata": {},
   "outputs": [
    {
     "name": "stdout",
     "output_type": "stream",
     "text": [
      "dana\n"
     ]
    }
   ],
   "source": [
    "#子类和父类定义同一个名称变量，则优先使用子类本身\n",
    "#继承的语法\n",
    "#在Python中，任何类都有一个共同的父类叫object\n",
    "class Person():\n",
    "    name = \"NoName\"\n",
    "    age = 18\n",
    "    __score = 0#成绩是秘密，只有自己知道\n",
    "    _petname =\"sec\"#小名，是保护的，子类可以用，但不能公用\n",
    "    def sleep(self):\n",
    "        print(\"sleeping……\")\n",
    "    def work(self):\n",
    "        print(\"make some money\")\n",
    "        \n",
    "        \n",
    "#父类写在括号内\n",
    "class Teacher(Person):\n",
    "    name = \"dana\"\n",
    "    teacher_id = \"9756\"\n",
    "    def make_test(self):\n",
    "        print(\"attention\")\n",
    "        \n",
    "        \n",
    "        \n",
    "t = Teacher()\n",
    "print(t.name)"
   ]
  },
  {
   "cell_type": "code",
   "execution_count": 3,
   "metadata": {},
   "outputs": [
    {
     "name": "stdout",
     "output_type": "stream",
     "text": [
      "make some money\n",
      "attention\n"
     ]
    }
   ],
   "source": [
    "#子类扩充父类的案例\n",
    "#人有工作的函数，老师也有工作的函数，但老师的工作需要讲课\n",
    "class Person():\n",
    "    name = \"NoName\"\n",
    "    age = 18\n",
    "    __score = 0#成绩是秘密，只有自己知道\n",
    "    _petname =\"sec\"#小名，是保护的，子类可以用，但不能公用\n",
    "    def sleep(self):\n",
    "        print(\"sleeping……\")\n",
    "    def work(self):\n",
    "        print(\"make some money\")\n",
    "        \n",
    "        \n",
    "#父类写在括号内\n",
    "class Teacher(Person):\n",
    "    name = \"dana\"\n",
    "    teacher_id = \"9756\"\n",
    "    def make_test(self):\n",
    "        print(\"attention\")\n",
    "    def work(self):\n",
    "        #扩充父类的功能只需要调用父类相应的函数\n",
    "        #Person.work(self)\n",
    "        #扩充父类的另一种方法,super代表得到父类\n",
    "        super().work()\n",
    "        self.make_test()\n",
    "        \n",
    "t = Teacher()\n",
    "t.work()\n",
    "        \n",
    "        "
   ]
  },
  {
   "cell_type": "code",
   "execution_count": 4,
   "metadata": {},
   "outputs": [
    {
     "name": "stdout",
     "output_type": "stream",
     "text": [
      "I am init in dog\n"
     ]
    }
   ],
   "source": [
    "#构造函数概念\n",
    "\n",
    "class dog():\n",
    "    #__init__就是构造函数\n",
    "    #每次实例化的时候，第一个被调用\n",
    "    #因为主要工作就是进行初始化，所以得名\n",
    "    def __init__(self):\n",
    "        print(\"I am init in dog\")\n",
    "#实例化时，括号里的参数需要跟构造函数参数匹配        \n",
    "kaka = dog()"
   ]
  },
  {
   "cell_type": "code",
   "execution_count": 5,
   "metadata": {},
   "outputs": [
    {
     "name": "stdout",
     "output_type": "stream",
     "text": [
      "I am init in dog\n"
     ]
    }
   ],
   "source": [
    "#继承中的构造函数1\n",
    "\n",
    "class animel():\n",
    "    pass\n",
    "\n",
    "class paxing(animel):\n",
    "    pass\n",
    "\n",
    "class dog(paxing):\n",
    "    def __init__(self):\n",
    "            \n",
    "        print(\"I am init in dog\")\n",
    "        \n",
    "#实例化时，自动调用dog的构造函数\n",
    "kaka = dog()\n"
   ]
  },
  {
   "cell_type": "code",
   "execution_count": 9,
   "metadata": {},
   "outputs": [
    {
     "name": "stdout",
     "output_type": "stream",
     "text": [
      "I am init in dog\n",
      "I am paxing\n"
     ]
    }
   ],
   "source": [
    "#继承中的构造函数2\n",
    "\n",
    "class animel():\n",
    "    def __init__(self):\n",
    "            \n",
    "        print(\" animel \")\n",
    "\n",
    "class paxing(animel):\n",
    "    def __init__(self):\n",
    "            \n",
    "        print(\"I am paxing\")\n",
    "\n",
    "class dog(paxing):\n",
    "    def __init__(self):\n",
    "            \n",
    "        print(\"I am init in dog\")\n",
    "        \n",
    "#实例化时，自动调用dog的构造函数\n",
    "#因为找到了构造函数，则不再查找父类的构造函数\n",
    "#在paxing中找到构造函数，则不再向上查找\n",
    "kaka = dog()\n",
    "class cat(paxing):\n",
    "    pass\n",
    "#实例化cat时，自动调用父类构造函数\n",
    "c =cat()\n",
    "\n"
   ]
  },
  {
   "cell_type": "code",
   "execution_count": 10,
   "metadata": {},
   "outputs": [
    {
     "name": "stdout",
     "output_type": "stream",
     "text": [
      "I am init in dog\n"
     ]
    },
    {
     "ename": "TypeError",
     "evalue": "__init__() missing 1 required positional argument: 'name'",
     "output_type": "error",
     "traceback": [
      "\u001b[1;31m---------------------------------------------------------------------------\u001b[0m",
      "\u001b[1;31mTypeError\u001b[0m                                 Traceback (most recent call last)",
      "\u001b[1;32m<ipython-input-10-b2c9c7e45c82>\u001b[0m in \u001b[0;36m<module>\u001b[1;34m()\u001b[0m\n\u001b[0;32m     26\u001b[0m \u001b[1;31m#实例化cat时，自动调用父类构造函数\u001b[0m\u001b[1;33m\u001b[0m\u001b[1;33m\u001b[0m\u001b[0m\n\u001b[0;32m     27\u001b[0m \u001b[1;31m#因为父类需要两个参数，实例化的时候只给出了一个，报错\u001b[0m\u001b[1;33m\u001b[0m\u001b[1;33m\u001b[0m\u001b[0m\n\u001b[1;32m---> 28\u001b[1;33m \u001b[0mc\u001b[0m \u001b[1;33m=\u001b[0m\u001b[0mcat\u001b[0m\u001b[1;33m(\u001b[0m\u001b[1;33m)\u001b[0m\u001b[1;33m\u001b[0m\u001b[0m\n\u001b[0m\u001b[0;32m     29\u001b[0m \u001b[1;33m\u001b[0m\u001b[0m\n",
      "\u001b[1;31mTypeError\u001b[0m: __init__() missing 1 required positional argument: 'name'"
     ]
    }
   ],
   "source": [
    "#继承中的构造函数3\n",
    "\n",
    "class animel():\n",
    "    def __init__(self):\n",
    "            \n",
    "        print(\" animel \")\n",
    "\n",
    "class paxing(animel):\n",
    "    def __init__(self,name):\n",
    "            \n",
    "        print(\"I am paxing,I am {0}\".format(name))\n",
    "\n",
    "class dog(paxing):\n",
    "    def __init__(self):\n",
    "            \n",
    "        print(\"I am init in dog\")\n",
    "        \n",
    "#实例化时，自动调用dog的构造函数\n",
    "#因为找到了构造函数，则不再查找父类的构造函数\n",
    "#在paxing中找到构造函数，则不再向上查找\n",
    "#实例化dog时，查找到dog的构造函数，参数匹配，不报错\n",
    "kaka = dog()\n",
    "\n",
    "class cat(paxing):\n",
    "    pass\n",
    "#实例化cat时，自动调用父类构造函数\n",
    "#因为父类需要两个参数，实例化的时候只给出了一个，报错\n",
    "c =cat()\n",
    "\n"
   ]
  },
  {
   "cell_type": "code",
   "execution_count": 11,
   "metadata": {},
   "outputs": [
    {
     "name": "stdout",
     "output_type": "stream",
     "text": [
      " animel \n",
      " animel \n"
     ]
    }
   ],
   "source": [
    "#继承中的构造函数4\n",
    "\n",
    "class animel():\n",
    "     def __init__(self):\n",
    "            \n",
    "        print(\" animel \")\n",
    "\n",
    "\n",
    "class paxing(animel):\n",
    "     pass\n",
    "\n",
    "class dog(paxing):\n",
    "    pass\n",
    "#实例化dog时，查找到dog的构造函数，参数匹配，不报错\n",
    "d = dog()\n",
    "class cat(paxing):\n",
    "    pass\n",
    "#此时应该自动调用构造函数，因为cat里没有构造函数，所以查找父类构造函数\n",
    "#paxing构造函数有两个参数，实例化给了一个，报错\n",
    "c = cat()"
   ]
  },
  {
   "cell_type": "code",
   "execution_count": 12,
   "metadata": {
    "scrolled": true
   },
   "outputs": [
    {
     "name": "stdout",
     "output_type": "stream",
     "text": [
      "<class 'type'>\n",
      "Help on class super in module builtins:\n",
      "\n",
      "class super(object)\n",
      " |  super() -> same as super(__class__, <first argument>)\n",
      " |  super(type) -> unbound super object\n",
      " |  super(type, obj) -> bound super object; requires isinstance(obj, type)\n",
      " |  super(type, type2) -> bound super object; requires issubclass(type2, type)\n",
      " |  Typical use to call a cooperative superclass method:\n",
      " |  class C(B):\n",
      " |      def meth(self, arg):\n",
      " |          super().meth(arg)\n",
      " |  This works for class methods too:\n",
      " |  class C(B):\n",
      " |      @classmethod\n",
      " |      def cmeth(cls, arg):\n",
      " |          super().cmeth(arg)\n",
      " |  \n",
      " |  Methods defined here:\n",
      " |  \n",
      " |  __get__(self, instance, owner, /)\n",
      " |      Return an attribute of instance, which is of type owner.\n",
      " |  \n",
      " |  __getattribute__(self, name, /)\n",
      " |      Return getattr(self, name).\n",
      " |  \n",
      " |  __init__(self, /, *args, **kwargs)\n",
      " |      Initialize self.  See help(type(self)) for accurate signature.\n",
      " |  \n",
      " |  __new__(*args, **kwargs) from builtins.type\n",
      " |      Create and return a new object.  See help(type) for accurate signature.\n",
      " |  \n",
      " |  __repr__(self, /)\n",
      " |      Return repr(self).\n",
      " |  \n",
      " |  ----------------------------------------------------------------------\n",
      " |  Data descriptors defined here:\n",
      " |  \n",
      " |  __self__\n",
      " |      the instance invoking super(); may be None\n",
      " |  \n",
      " |  __self_class__\n",
      " |      the type of the instance invoking super(); may be None\n",
      " |  \n",
      " |  __thisclass__\n",
      " |      the class invoking super()\n",
      "\n"
     ]
    }
   ],
   "source": [
    "print(type(super))\n",
    "help(super)"
   ]
  },
  {
   "cell_type": "code",
   "execution_count": 13,
   "metadata": {},
   "outputs": [
    {
     "name": "stdout",
     "output_type": "stream",
     "text": [
      "(<class '__main__.A'>, <class 'object'>)\n",
      "(<class '__main__.B'>, <class '__main__.A'>, <class 'object'>)\n"
     ]
    }
   ],
   "source": [
    "class A():\n",
    "    pass\n",
    "class B(A):\n",
    "    pass\n",
    "class C(B,A):\n",
    "    pass\n",
    "print(A.__mro__)\n",
    "print(B.__mro__)\n",
    "    "
   ]
  },
  {
   "cell_type": "code",
   "execution_count": 14,
   "metadata": {},
   "outputs": [
    {
     "name": "stdout",
     "output_type": "stream",
     "text": [
      "I am flying……\n",
      "I am swimming……\n"
     ]
    }
   ],
   "source": [
    "#多继承的例子\n",
    "#子类可以直接拥有父类的属性和方法，私有属性和方法除外\n",
    "class fish():\n",
    "    def __init__(self,name):\n",
    "        self.name = name\n",
    "        \n",
    "    def swim(self):\n",
    "        print(\"I am swimming……\")\n",
    "    \n",
    "class bird():\n",
    "    def __init__(self,name):\n",
    "        self.name = name\n",
    "        \n",
    "    def fly(self):\n",
    "        print(\"I am flying……\")\n",
    "    \n",
    "class person():\n",
    "    def __init__(self,name):\n",
    "        self.name = name\n",
    "        \n",
    "    def work(self):\n",
    "        print(\"I am working……\")\n",
    "class superman(person,bird,fish):#继承有顺序\n",
    "    def __init__(self,name):\n",
    "        self.name = name\n",
    "\n",
    "\n",
    "s = superman(\"yueyue\")\n",
    "s.fly()\n",
    "s.swim()\n",
    "    \n",
    "    "
   ]
  },
  {
   "cell_type": "code",
   "execution_count": 15,
   "metadata": {},
   "outputs": [
    {
     "name": "stdout",
     "output_type": "stream",
     "text": [
      "I am working……\n"
     ]
    }
   ],
   "source": [
    "#单继承的例子\n",
    "#子类可以直接拥有父类的属性和方法，私有属性和方法除外\n",
    "class fish():\n",
    "    def __init__(self,name):\n",
    "        self.name = name\n",
    "        \n",
    "    def swim(self):\n",
    "        print(\"I am swimming……\")\n",
    "    \n",
    "class bird():\n",
    "    def __init__(self,name):\n",
    "        self.name = name\n",
    "        \n",
    "    def fly(self):\n",
    "        print(\"I am flying……\")\n",
    "    \n",
    "class person():\n",
    "    def __init__(self,name):\n",
    "        self.name = name\n",
    "        \n",
    "    def work(self):\n",
    "        print(\"I am working……\")\n",
    "        \n",
    "class student(person):\n",
    "    def __init__(self,name):\n",
    "        self.name = name\n",
    "\n",
    "\n",
    "s = student(\"yueyue\")\n",
    "s.work()\n",
    "    "
   ]
  },
  {
   "cell_type": "code",
   "execution_count": 18,
   "metadata": {},
   "outputs": [
    {
     "name": "stdout",
     "output_type": "stream",
     "text": [
      "In Init Function\n"
     ]
    }
   ],
   "source": [
    "#构造函数例子\n",
    "class person():\n",
    "    #对person类进行实例化的时候\n",
    "    #姓名确定\n",
    "    #年龄确定\n",
    "    #地址要有\n",
    "    def __init__(self):\n",
    "        self.name = \"noname\"\n",
    "        self.age = 18\n",
    "        self.address = \"student_dormitory\"\n",
    "        print(\"In Init Function\")\n",
    "\n",
    "\n",
    "#实例化一个人\n",
    "p = person()"
   ]
  },
  {
   "cell_type": "code",
   "execution_count": 19,
   "metadata": {},
   "outputs": [
    {
     "name": "stdout",
     "output_type": "stream",
     "text": [
      "B\n"
     ]
    }
   ],
   "source": [
    "# 构造函数的调用顺序 - 1\n",
    "# 如果子类没有写构造函数，则自动向上查找，知道找到位置\n",
    "class A():\n",
    "    def __init__(self):\n",
    "        print(\"A\")\n",
    "\n",
    "class B(A):\n",
    "    def __init__(self):\n",
    "        print(\"B\")\n",
    "        \n",
    "class C(B):\n",
    "    pass\n",
    "\n",
    "# 此时，首先查找C的构造函数\n",
    "# 如果没有，则向上按照MRO顺序查找父类的构造函数，知道找到为止\n",
    "c = C()"
   ]
  },
  {
   "cell_type": "code",
   "execution_count": 20,
   "metadata": {},
   "outputs": [
    {
     "ename": "TypeError",
     "evalue": "__init__() missing 1 required positional argument: 'name'",
     "output_type": "error",
     "traceback": [
      "\u001b[1;31m---------------------------------------------------------------------------\u001b[0m",
      "\u001b[1;31mTypeError\u001b[0m                                 Traceback (most recent call last)",
      "\u001b[1;32m<ipython-input-20-53713b58765b>\u001b[0m in \u001b[0;36m<module>\u001b[1;34m()\u001b[0m\n\u001b[0;32m     15\u001b[0m \u001b[1;31m# 如果没有，则向上按照MRO顺序查找父类的构造函数，知道找到为止\u001b[0m\u001b[1;33m\u001b[0m\u001b[1;33m\u001b[0m\u001b[0m\n\u001b[0;32m     16\u001b[0m \u001b[1;31m# 此时，会出现参数结构不对应错误\u001b[0m\u001b[1;33m\u001b[0m\u001b[1;33m\u001b[0m\u001b[0m\n\u001b[1;32m---> 17\u001b[1;33m \u001b[0mc\u001b[0m \u001b[1;33m=\u001b[0m \u001b[0mC\u001b[0m\u001b[1;33m(\u001b[0m\u001b[1;33m)\u001b[0m\u001b[1;33m\u001b[0m\u001b[0m\n\u001b[0m",
      "\u001b[1;31mTypeError\u001b[0m: __init__() missing 1 required positional argument: 'name'"
     ]
    }
   ],
   "source": [
    "# 构造函数的调用顺序 - 2\n",
    "# 如果子类没有写构造函数，则自动向上查找，知道找到位置\n",
    "class A():\n",
    "    def __init__(self):\n",
    "        print(\"A\")\n",
    "\n",
    "class B(A):\n",
    "    def __init__(self,name):\n",
    "        print(\"B\")\n",
    "        print(name)\n",
    "        \n",
    "        \n",
    "class C(B):\n",
    "    pass\n",
    "\n",
    "# 此时，首先查找C的构造函数\n",
    "# 如果没有，则向上按照MRO顺序查找父类的构造函数，知道找到为止\n",
    "# 此时，会出现参数结构不对应错误\n",
    "c = C()"
   ]
  },
  {
   "cell_type": "code",
   "execution_count": 21,
   "metadata": {},
   "outputs": [
    {
     "name": "stdout",
     "output_type": "stream",
     "text": [
      "B\n",
      "I am C\n",
      "this is additional function in c\n"
     ]
    }
   ],
   "source": [
    "# 构造函数的调用顺序 - 3\n",
    "# 如果子类没有写构造函数，则自动向上查找，知道找到位置\n",
    "class A():\n",
    "    def __init__(self):\n",
    "        print(\"A\")\n",
    "\n",
    "class B(A):\n",
    "    def __init__(self,name):\n",
    "        print(\"B\")\n",
    "        print(name)\n",
    "        \n",
    "class C(B):\n",
    "        #C中想扩展B的构造函数，即调用B的构造函数后添加一些功能\n",
    "        #两种方法\n",
    "         #第一种:通过父类名调用\n",
    "    def __init__(self,name):\n",
    "        #首先调用父类构造函数\n",
    "        B.__init__(self,name)\n",
    "        #其次，再添加自己的功能\n",
    "        print(\"this is additional function in c\")\n",
    "# 此时，首先查找C的构造函数\n",
    "# 如果没有，则向上按照MRO顺序查找父类的构造函数，知道找到为止\n",
    "c = C(\"I am C\")"
   ]
  },
  {
   "cell_type": "code",
   "execution_count": 22,
   "metadata": {},
   "outputs": [
    {
     "name": "stdout",
     "output_type": "stream",
     "text": [
      "B\n",
      "I am C\n",
      "this is additional function in c\n"
     ]
    }
   ],
   "source": [
    "# 构造函数的调用顺序 - 3\n",
    "# 如果子类没有写构造函数，则自动向上查找，知道找到位置\n",
    "class A():\n",
    "    def __init__(self):\n",
    "        print(\"A\")\n",
    "\n",
    "class B(A):\n",
    "    def __init__(self,name):\n",
    "        print(\"B\")\n",
    "        print(name)\n",
    "        \n",
    "class C(B):\n",
    "        #C中想扩展B的构造函数，即调用B的构造函数后添加一些功能\n",
    "        #两种方法\n",
    "        \n",
    "        #第二种:使用super调用\n",
    "    def __init__(self,name):\n",
    "        #首先调用父类构造函数\n",
    "        super(C,self).__init__(name)\n",
    "        #其次，再添加自己的功能\n",
    "        print(\"this is additional function in c\")\n",
    "   \n",
    "# 此时，首先查找C的构造函数\n",
    "# 如果没有，则向上按照MRO顺序查找父类的构造函数，知道找到为止\n",
    "c = C(\"I am C\")"
   ]
  },
  {
   "cell_type": "code",
   "execution_count": 23,
   "metadata": {},
   "outputs": [
    {
     "name": "stdout",
     "output_type": "stream",
     "text": [
      "(<class '__main__.Tutor'>, <class '__main__.Teacher'>, <class '__main__.Student'>, <class '__main__.Person'>, <class 'object'>)\n",
      "{}\n",
      "{'__module__': '__main__', '__doc__': None}\n",
      "********************\n",
      "(<class '__main__.TutorM'>, <class '__main__.Person'>, <class '__main__.TeacherMixin'>, <class '__main__.StudentMixin'>, <class 'object'>)\n",
      "{}\n",
      "{'__module__': '__main__', '__doc__': None}\n"
     ]
    }
   ],
   "source": [
    "# Mixin案例\n",
    "class Person():\n",
    "                name = \"liuying\"\n",
    "                age = 18\n",
    "\n",
    "                def eat(self):\n",
    "                    print(\"EAT.......\")\n",
    "                    \n",
    "                def drink(self):\n",
    "                    print(\"DRINK......\")\n",
    "                    \n",
    "                def sleep(self):\n",
    "                    print(\"SLEEP.....\")\n",
    "                \n",
    "class Teacher(Person):\n",
    "                def work(self):\n",
    "                    print(\"Work\")\n",
    "\n",
    "class Student(Person):\n",
    "                def study(self):\n",
    "                    print(\"Study\")\n",
    "                    \n",
    "\n",
    "class Tutor(Teacher, Student):\n",
    "                pass\n",
    "\n",
    "t = Tutor()\n",
    "             \n",
    "print(Tutor.__mro__)\n",
    "print(t.__dict__)\n",
    "print(Tutor.__dict__)\n",
    "\n",
    "print(\"*\"*20)\n",
    "class TeacherMixin():\n",
    "                def work(self):\n",
    "                    print(\"Work\")\n",
    "\n",
    "class StudentMixin():\n",
    "                def study(self):\n",
    "                    print(\"Study\")\n",
    "                    \n",
    "class TutorM(Person, TeacherMixin, StudentMixin):\n",
    "                pass\n",
    "\n",
    "tt = TutorM()\n",
    "print(TutorM.__mro__)\n",
    "print(tt.__dict__)\n",
    "print(TutorM.__dict__)"
   ]
  },
  {
   "cell_type": "code",
   "execution_count": 24,
   "metadata": {},
   "outputs": [
    {
     "name": "stdout",
     "output_type": "stream",
     "text": [
      "True\n",
      "False\n",
      "True\n"
     ]
    }
   ],
   "source": [
    "# issubclass\n",
    "class A():\n",
    "    pass\n",
    "\n",
    "class B(A):\n",
    "    pass\n",
    "\n",
    "class C():\n",
    "    pass\n",
    "\n",
    "print( issubclass(B, A))\n",
    "print( issubclass(C, A))\n",
    "print( issubclass(B, object))"
   ]
  },
  {
   "cell_type": "code",
   "execution_count": 25,
   "metadata": {},
   "outputs": [
    {
     "name": "stdout",
     "output_type": "stream",
     "text": [
      "True\n",
      "False\n"
     ]
    }
   ],
   "source": [
    "# isinstance\n",
    "class A():\n",
    "    pass\n",
    "\n",
    "a = A()\n",
    "\n",
    "print(isinstance(a, A))\n",
    "print(isinstance(A, A))"
   ]
  },
  {
   "cell_type": "code",
   "execution_count": 26,
   "metadata": {},
   "outputs": [
    {
     "name": "stdout",
     "output_type": "stream",
     "text": [
      "True\n",
      "False\n"
     ]
    }
   ],
   "source": [
    "# hasattr\n",
    "class A():\n",
    "    name = \"NoName\"\n",
    "    \n",
    "a = A()\n",
    "print(hasattr(a, \"name\" ))\n",
    "print(hasattr(a, \"age\" ))"
   ]
  },
  {
   "cell_type": "code",
   "execution_count": 27,
   "metadata": {},
   "outputs": [
    {
     "name": "stdout",
     "output_type": "stream",
     "text": [
      "Help on built-in function setattr in module builtins:\n",
      "\n",
      "setattr(obj, name, value, /)\n",
      "    Sets the named attribute on the given object to the specified value.\n",
      "    \n",
      "    setattr(x, 'y', v) is equivalent to ``x.y = v''\n",
      "\n"
     ]
    }
   ],
   "source": [
    "# help案例\n",
    "# 我想知道setattr的具体用法\n",
    "help(setattr)\n"
   ]
  },
  {
   "cell_type": "code",
   "execution_count": 28,
   "metadata": {},
   "outputs": [
    {
     "data": {
      "text/plain": [
       "['__class__',\n",
       " '__delattr__',\n",
       " '__dict__',\n",
       " '__dir__',\n",
       " '__doc__',\n",
       " '__eq__',\n",
       " '__format__',\n",
       " '__ge__',\n",
       " '__getattribute__',\n",
       " '__gt__',\n",
       " '__hash__',\n",
       " '__init__',\n",
       " '__init_subclass__',\n",
       " '__le__',\n",
       " '__lt__',\n",
       " '__module__',\n",
       " '__ne__',\n",
       " '__new__',\n",
       " '__reduce__',\n",
       " '__reduce_ex__',\n",
       " '__repr__',\n",
       " '__setattr__',\n",
       " '__sizeof__',\n",
       " '__str__',\n",
       " '__subclasshook__',\n",
       " '__weakref__']"
      ]
     },
     "execution_count": 28,
     "metadata": {},
     "output_type": "execute_result"
    }
   ],
   "source": [
    "# dir 案例\n",
    "class A():\n",
    "    pass\n",
    "\n",
    "#dir(A)\n",
    "a = A()\n",
    "dir(a)"
   ]
  },
  {
   "cell_type": "code",
   "execution_count": null,
   "metadata": {},
   "outputs": [],
   "source": []
  }
 ],
 "metadata": {
  "kernelspec": {
   "display_name": "Python 3",
   "language": "python",
   "name": "python3"
  },
  "language_info": {
   "codemirror_mode": {
    "name": "ipython",
    "version": 3
   },
   "file_extension": ".py",
   "mimetype": "text/x-python",
   "name": "python",
   "nbconvert_exporter": "python",
   "pygments_lexer": "ipython3",
   "version": "3.6.4"
  }
 },
 "nbformat": 4,
 "nbformat_minor": 2
}
