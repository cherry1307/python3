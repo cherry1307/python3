{
 "cells": [
  {
   "cell_type": "code",
   "execution_count": 1,
   "metadata": {},
   "outputs": [
    {
     "data": {
      "text/plain": [
       "mappingproxy({'__dict__': <attribute '__dict__' of 'A' objects>,\n",
       "              '__doc__': None,\n",
       "              '__module__': '__main__',\n",
       "              '__weakref__': <attribute '__weakref__' of 'A' objects>,\n",
       "              'age': 18,\n",
       "              'name': 'dana'})"
      ]
     },
     "execution_count": 1,
     "metadata": {},
     "output_type": "execute_result"
    }
   ],
   "source": [
    "class A () :\n",
    "    name = \"dana\"\n",
    "    age = 18\n",
    "    \n",
    "\n",
    "A.__dict__  "
   ]
  },
  {
   "cell_type": "code",
   "execution_count": 2,
   "metadata": {},
   "outputs": [
    {
     "name": "stdout",
     "output_type": "stream",
     "text": [
      "dana\n",
      "18\n"
     ]
    }
   ],
   "source": [
    "class Student () :\n",
    "    name = \"dana\"\n",
    "    age = 18\n",
    "    \n",
    "\n",
    "Student.__dict__ \n",
    "#实例化\n",
    "yueyue =Student()\n",
    "yueyue.__dict__\n",
    "print(yueyue.name)\n",
    "print(yueyue.age)"
   ]
  },
  {
   "cell_type": "code",
   "execution_count": 3,
   "metadata": {},
   "outputs": [
    {
     "name": "stdout",
     "output_type": "stream",
     "text": [
      "dana\n",
      "18\n",
      "##################################################\n",
      "87558384\n",
      "1725722624\n",
      "##################################################\n",
      "dana\n",
      "18\n",
      "87558384\n",
      "1725722624\n"
     ]
    }
   ],
   "source": [
    "#该案例说明，类实例的属性和其对象实例的属性在不对对象实例的属性赋值的前提下，指向同一个变量\n",
    "class A():\n",
    "    name = \"dana\"\n",
    "    age = 18\n",
    "    #注意say的写法，参数有一个self,相当于C++中的this\n",
    "    def say(self):\n",
    "        self.name = \"aaaa\"\n",
    "        self.age = 200\n",
    "        \n",
    "#此时，A称为类实例        \n",
    "print(A.name)\n",
    "print(A.age)\n",
    "print(\"#\"*50)\n",
    "\n",
    "#id可以鉴别一个变量是否和另一个变量是同一变量\n",
    "print(id(A.name))\n",
    "print(id(A.age))\n",
    "print(\"#\"*50)\n",
    "\n",
    "#A这一类事物里的一个具体的a\n",
    "a=A()\n",
    "print(a.name)\n",
    "print(a.age)\n",
    "print(id(a.name))\n",
    "print(id(a.age))\n",
    "\n"
   ]
  },
  {
   "cell_type": "code",
   "execution_count": 4,
   "metadata": {},
   "outputs": [
    {
     "name": "stdout",
     "output_type": "stream",
     "text": [
      "dana\n",
      "18\n",
      "##################################################\n",
      "87558384\n",
      "1725722624\n",
      "##################################################\n",
      "{'__module__': '__main__', 'name': 'dana', 'age': 18, 'say': <function A.say at 0x00000000037B2EA0>, '__dict__': <attribute '__dict__' of 'A' objects>, '__weakref__': <attribute '__weakref__' of 'A' objects>, '__doc__': None}\n",
      "{}\n",
      "{'name': 'yaona', 'age': 16}\n",
      "yaona\n",
      "16\n",
      "90056272\n",
      "1725722560\n"
     ]
    }
   ],
   "source": [
    "#此时，A称为类实例        \n",
    "print(A.name)\n",
    "print(A.age)\n",
    "print(\"#\"*50)\n",
    "\n",
    "#id可以鉴别一个变量是否和另一个变量是同一变量\n",
    "print(id(A.name))\n",
    "print(id(A.age))\n",
    "print(\"#\"*50)\n",
    "\n",
    "#A这一类事物里的一个具体的a\n",
    "a =A()\n",
    "#查看A内所有属性\n",
    "print(A.__dict__)\n",
    "print(a.__dict__)\n",
    "\n",
    "a.name = \"yaona\"\n",
    "a.age = 16\n",
    "print(a.__dict__)\n",
    "\n",
    "print(a.name)\n",
    "print(a.age)\n",
    "print(id(a.name))\n",
    "print(id(a.age))"
   ]
  },
  {
   "cell_type": "code",
   "execution_count": 5,
   "metadata": {},
   "outputs": [
    {
     "name": "stdout",
     "output_type": "stream",
     "text": [
      "My name is aaaa\n",
      "My age is 200\n",
      "My name is aaaa\n",
      "My age is 200\n"
     ]
    }
   ],
   "source": [
    "\n",
    "class Student():\n",
    "    name = \"dana\"\n",
    "    age = 18\n",
    "    #注意say的写法，参数有一个self,相当于C++中的this\n",
    "    def say(self):\n",
    "        self.name = \"aaaa\"\n",
    "        self.age = 200\n",
    "        print(\"My name is {0}\".format(self.name))\n",
    "        print(\"My age is {0}\".format(self.age))\n",
    "        \n",
    "     #self本身不是关键字   \n",
    "    def sayagain(s):\n",
    "       \n",
    "        print(\"My name is {0}\".format(s.name))\n",
    "        print(\"My age is {0}\".format(s.age))\n",
    "        \n",
    "\n",
    "yueyue = Student()\n",
    "yueyue.say()\n",
    "yueyue.sayagain()\n"
   ]
  },
  {
   "cell_type": "code",
   "execution_count": 6,
   "metadata": {},
   "outputs": [
    {
     "name": "stdout",
     "output_type": "stream",
     "text": [
      "My name is aaaa\n",
      "My age is 200\n",
      "My age is 18\n",
      "dana\n",
      "18\n",
      "hello,nice to meet you\n"
     ]
    }
   ],
   "source": [
    "class teacher():\n",
    "    name = \"dana\"\n",
    "    age = 18\n",
    "    \n",
    "    def say(self):\n",
    "        self.name = \"aaaa\"\n",
    "        self.age = 200\n",
    "        print(\"My name is {0}\".format(self.name))\n",
    "        \n",
    "        print(\"My age is {0}\".format(self.age))\n",
    "        #调用类的成员变量需要用__class__\n",
    "        print(\"My age is {0}\".format(__class__.age))\n",
    "        \n",
    "    def sayagain():\n",
    "        print(__class__.name)\n",
    "        print(__class__.age)\n",
    "        print(\"hello,nice to meet you\")\n",
    "        \n",
    "t = teacher()\n",
    "t.say()\n",
    "\n",
    "\n",
    "#调用绑定类函数使用类名\n",
    "teacher.sayagain()\n",
    "#t.sayagain()"
   ]
  },
  {
   "cell_type": "code",
   "execution_count": 7,
   "metadata": {},
   "outputs": [
    {
     "name": "stdout",
     "output_type": "stream",
     "text": [
      "aaa\n",
      "200\n",
      "aaa\n",
      "200\n",
      "cherry\n",
      "18\n",
      "bbb\n",
      "90\n"
     ]
    }
   ],
   "source": [
    "#关于self的案例\n",
    "\n",
    "class A():\n",
    "    name = \"cherry\"\n",
    "    age = 18\n",
    "    \n",
    "    def __init__(self):\n",
    "        self.name = \"aaa\"\n",
    "        self.age = 200\n",
    "        \n",
    "    def say(self):\n",
    "        print(self.name)\n",
    "        print(self.age)\n",
    "class B():  \n",
    "    name = \"bbb\"\n",
    "    age = 90\n",
    "\n",
    "a =A()\n",
    "#此时，系统会默认把a作为第一个参数传入函数\n",
    "a.say()\n",
    "\n",
    "#此时，self被a替换\n",
    "A.say(a)\n",
    "#同样可以把A作为参数传入\n",
    "A.say(A)\n",
    "#同样可以把B作为参数传入\n",
    "#此时，传入的是实例B，因为B具有name和age属性，所以不会报错\n",
    "A.say(B)\n",
    "#以上代码，利用了鸭子模型"
   ]
  },
  {
   "cell_type": "code",
   "execution_count": null,
   "metadata": {},
   "outputs": [],
   "source": []
  },
  {
   "cell_type": "code",
   "execution_count": null,
   "metadata": {},
   "outputs": [],
   "source": []
  },
  {
   "cell_type": "code",
   "execution_count": null,
   "metadata": {},
   "outputs": [],
   "source": []
  }
 ],
 "metadata": {
  "kernelspec": {
   "display_name": "Python 3",
   "language": "python",
   "name": "python3"
  },
  "language_info": {
   "codemirror_mode": {
    "name": "ipython",
    "version": 3
   },
   "file_extension": ".py",
   "mimetype": "text/x-python",
   "name": "python",
   "nbconvert_exporter": "python",
   "pygments_lexer": "ipython3",
   "version": "3.6.4"
  }
 },
 "nbformat": 4,
 "nbformat_minor": 2
}
