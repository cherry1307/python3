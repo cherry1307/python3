{
 "cells": [
  {
   "cell_type": "code",
   "execution_count": 8,
   "metadata": {},
   "outputs": [
    {
     "name": "stdout",
     "output_type": "stream",
     "text": [
      "NoName\n",
      "sec\n",
      "sleeping……\n",
      "9756\n",
      "attention\n"
     ]
    }
   ],
   "source": [
    "#继承的语法\n",
    "#在Python中，任何类都有一个共同的父类叫object\n",
    "class Person():\n",
    "    name = \"NoName\"\n",
    "    __score = 0#成绩是秘密，只有自己知道\n",
    "    _petname =\"sec\"#小名，是保护的，子类可以用，但不能公用\n",
    "    def sleep(self):\n",
    "        print(\"sleeping……\")\n",
    "        \n",
    "        \n",
    "#父类写在括号内\n",
    "class Teacher(Person):\n",
    "    teacher_id = \"9756\"\n",
    "    def make_test(self):\n",
    "        print(\"attention\")\n",
    "t = Teacher()\n",
    "print(t.name)\n",
    "#小名是私有的，不能直接访问，这里为什么可以直接访问\n",
    "print(t._petname)\n",
    "\n",
    "#私有访问问题，公开访问私有变量，报错\n",
    "#print(t.__score)\n",
    "t.sleep()\n",
    "print(t.teacher_id)\n",
    "t.make_test()\n",
    "#print(Teacher.name)"
   ]
  },
  {
   "cell_type": "code",
   "execution_count": 9,
   "metadata": {},
   "outputs": [
    {
     "name": "stdout",
     "output_type": "stream",
     "text": [
      "dana\n"
     ]
    }
   ],
   "source": [
    "#子类和父类定义同一个名称变量，则优先使用子类本身\n",
    "#继承的语法\n",
    "#在Python中，任何类都有一个共同的父类叫object\n",
    "class Person():\n",
    "    name = \"NoName\"\n",
    "    age = 18\n",
    "    __score = 0#成绩是秘密，只有自己知道\n",
    "    _petname =\"sec\"#小名，是保护的，子类可以用，但不能公用\n",
    "    def sleep(self):\n",
    "        print(\"sleeping……\")\n",
    "    def work(self):\n",
    "        print(\"make some money\")\n",
    "        \n",
    "        \n",
    "#父类写在括号内\n",
    "class Teacher(Person):\n",
    "    name = \"dana\"\n",
    "    teacher_id = \"9756\"\n",
    "    def make_test(self):\n",
    "        print(\"attention\")\n",
    "        \n",
    "        \n",
    "        \n",
    "t = Teacher()\n",
    "print(t.name)"
   ]
  },
  {
   "cell_type": "code",
   "execution_count": 13,
   "metadata": {},
   "outputs": [
    {
     "name": "stdout",
     "output_type": "stream",
     "text": [
      "make some money\n",
      "attention\n"
     ]
    }
   ],
   "source": [
    "#子类扩充父类的案例\n",
    "#人有工作的函数，老师也有工作的函数，但老师的工作需要讲课\n",
    "class Person():\n",
    "    name = \"NoName\"\n",
    "    age = 18\n",
    "    __score = 0#成绩是秘密，只有自己知道\n",
    "    _petname =\"sec\"#小名，是保护的，子类可以用，但不能公用\n",
    "    def sleep(self):\n",
    "        print(\"sleeping……\")\n",
    "    def work(self):\n",
    "        print(\"make some money\")\n",
    "        \n",
    "        \n",
    "#父类写在括号内\n",
    "class Teacher(Person):\n",
    "    name = \"dana\"\n",
    "    teacher_id = \"9756\"\n",
    "    def make_test(self):\n",
    "        print(\"attention\")\n",
    "    def work(self):\n",
    "        #扩充父类的功能只需要调用父类相应的函数\n",
    "        #Person.work(self)\n",
    "        #扩充父类的另一种方法,super代表得到父类\n",
    "        super().work()\n",
    "        self.make_test()\n",
    "        \n",
    "t = Teacher()\n",
    "t.work()\n",
    "        \n",
    "        "
   ]
  },
  {
   "cell_type": "code",
   "execution_count": 17,
   "metadata": {},
   "outputs": [
    {
     "name": "stdout",
     "output_type": "stream",
     "text": [
      "I am init in dog\n"
     ]
    }
   ],
   "source": [
    "#构造函数概念\n",
    "\n",
    "class dog():\n",
    "    #__init__就是构造函数\n",
    "    #每次实例化的时候，第一个被调用\n",
    "    #因为主要工作就是进行初始化，所以得名\n",
    "    def __init__(self):\n",
    "        print(\"I am init in dog\")\n",
    "#实例化时，括号里的参数需要跟构造函数参数匹配        \n",
    "kaka = dog()"
   ]
  },
  {
   "cell_type": "code",
   "execution_count": 22,
   "metadata": {},
   "outputs": [
    {
     "name": "stdout",
     "output_type": "stream",
     "text": [
      "I am init in dog\n"
     ]
    }
   ],
   "source": [
    "#继承中的构造函数1\n",
    "\n",
    "class animel():\n",
    "    pass\n",
    "\n",
    "class paxing(animel):\n",
    "    pass\n",
    "\n",
    "class dog(paxing):\n",
    "    def __init__(self):\n",
    "            \n",
    "        print(\"I am init in dog\")\n",
    "        \n",
    "#实例化时，自动调用dog的构造函数\n",
    "kaka = dog()\n"
   ]
  },
  {
   "cell_type": "code",
   "execution_count": 4,
   "metadata": {},
   "outputs": [
    {
     "name": "stdout",
     "output_type": "stream",
     "text": [
      "I am init in dog\n",
      "I am paxing\n"
     ]
    }
   ],
   "source": [
    "#继承中的构造函数2\n",
    "\n",
    "class animel():\n",
    "    def __init__(self):\n",
    "            \n",
    "        print(\" animel \")\n",
    "\n",
    "class paxing(animel):\n",
    "    def __init__(self):\n",
    "            \n",
    "        print(\"I am paxing\")\n",
    "\n",
    "class dog(paxing):\n",
    "    def __init__(self):\n",
    "            \n",
    "        print(\"I am init in dog\")\n",
    "        \n",
    "#实例化时，自动调用dog的构造函数\n",
    "#因为找到了构造函数，则不再查找父类的构造函数\n",
    "#在paxing中找到构造函数，则不再向上查找\n",
    "kaka = dog()\n",
    "class cat(paxing):\n",
    "    pass\n",
    "#实例化cat时，自动调用父类构造函数\n",
    "c =cat()\n",
    "\n"
   ]
  },
  {
   "cell_type": "code",
   "execution_count": 7,
   "metadata": {},
   "outputs": [
    {
     "name": "stdout",
     "output_type": "stream",
     "text": [
      "I am init in dog\n"
     ]
    },
    {
     "ename": "TypeError",
     "evalue": "__init__() missing 1 required positional argument: 'name'",
     "output_type": "error",
     "traceback": [
      "\u001b[1;31m---------------------------------------------------------------------------\u001b[0m",
      "\u001b[1;31mTypeError\u001b[0m                                 Traceback (most recent call last)",
      "\u001b[1;32m<ipython-input-7-b2c9c7e45c82>\u001b[0m in \u001b[0;36m<module>\u001b[1;34m()\u001b[0m\n\u001b[0;32m     26\u001b[0m \u001b[1;31m#实例化cat时，自动调用父类构造函数\u001b[0m\u001b[1;33m\u001b[0m\u001b[1;33m\u001b[0m\u001b[0m\n\u001b[0;32m     27\u001b[0m \u001b[1;31m#因为父类需要两个参数，实例化的时候只给出了一个，报错\u001b[0m\u001b[1;33m\u001b[0m\u001b[1;33m\u001b[0m\u001b[0m\n\u001b[1;32m---> 28\u001b[1;33m \u001b[0mc\u001b[0m \u001b[1;33m=\u001b[0m\u001b[0mcat\u001b[0m\u001b[1;33m(\u001b[0m\u001b[1;33m)\u001b[0m\u001b[1;33m\u001b[0m\u001b[0m\n\u001b[0m\u001b[0;32m     29\u001b[0m \u001b[1;33m\u001b[0m\u001b[0m\n",
      "\u001b[1;31mTypeError\u001b[0m: __init__() missing 1 required positional argument: 'name'"
     ]
    }
   ],
   "source": [
    "#继承中的构造函数3\n",
    "\n",
    "class animel():\n",
    "    def __init__(self):\n",
    "            \n",
    "        print(\" animel \")\n",
    "\n",
    "class paxing(animel):\n",
    "    def __init__(self,name):\n",
    "            \n",
    "        print(\"I am paxing,I am {0}\".format(name))\n",
    "\n",
    "class dog(paxing):\n",
    "    def __init__(self):\n",
    "            \n",
    "        print(\"I am init in dog\")\n",
    "        \n",
    "#实例化时，自动调用dog的构造函数\n",
    "#因为找到了构造函数，则不再查找父类的构造函数\n",
    "#在paxing中找到构造函数，则不再向上查找\n",
    "#实例化dog时，查找到dog的构造函数，参数匹配，不报错\n",
    "kaka = dog()\n",
    "\n",
    "class cat(paxing):\n",
    "    pass\n",
    "#实例化cat时，自动调用父类构造函数\n",
    "#因为父类需要两个参数，实例化的时候只给出了一个，报错\n",
    "c =cat()\n",
    "\n"
   ]
  },
  {
   "cell_type": "code",
   "execution_count": 27,
   "metadata": {},
   "outputs": [
    {
     "name": "stdout",
     "output_type": "stream",
     "text": [
      " animel \n",
      " animel \n"
     ]
    }
   ],
   "source": [
    "#继承中的构造函数4\n",
    "\n",
    "class animel():\n",
    "     def __init__(self):\n",
    "            \n",
    "        print(\" animel \")\n",
    "\n",
    "\n",
    "class paxing(animel):\n",
    "     pass\n",
    "\n",
    "class dog(paxing):\n",
    "    pass\n",
    "#实例化dog时，查找到dog的构造函数，参数匹配，不报错\n",
    "d = dog()\n",
    "class cat(paxing):\n",
    "    pass\n",
    "#此时应该自动调用构造函数，因为cat里没有构造函数，所以查找父类构造函数\n",
    "#paxing构造函数有两个参数，实例化给了一个，报错\n",
    "c = cat()"
   ]
  },
  {
   "cell_type": "code",
   "execution_count": 29,
   "metadata": {},
   "outputs": [
    {
     "name": "stdout",
     "output_type": "stream",
     "text": [
      "<class 'type'>\n",
      "Help on class super in module builtins:\n",
      "\n",
      "class super(object)\n",
      " |  super() -> same as super(__class__, <first argument>)\n",
      " |  super(type) -> unbound super object\n",
      " |  super(type, obj) -> bound super object; requires isinstance(obj, type)\n",
      " |  super(type, type2) -> bound super object; requires issubclass(type2, type)\n",
      " |  Typical use to call a cooperative superclass method:\n",
      " |  class C(B):\n",
      " |      def meth(self, arg):\n",
      " |          super().meth(arg)\n",
      " |  This works for class methods too:\n",
      " |  class C(B):\n",
      " |      @classmethod\n",
      " |      def cmeth(cls, arg):\n",
      " |          super().cmeth(arg)\n",
      " |  \n",
      " |  Methods defined here:\n",
      " |  \n",
      " |  __get__(self, instance, owner, /)\n",
      " |      Return an attribute of instance, which is of type owner.\n",
      " |  \n",
      " |  __getattribute__(self, name, /)\n",
      " |      Return getattr(self, name).\n",
      " |  \n",
      " |  __init__(self, /, *args, **kwargs)\n",
      " |      Initialize self.  See help(type(self)) for accurate signature.\n",
      " |  \n",
      " |  __new__(*args, **kwargs) from builtins.type\n",
      " |      Create and return a new object.  See help(type) for accurate signature.\n",
      " |  \n",
      " |  __repr__(self, /)\n",
      " |      Return repr(self).\n",
      " |  \n",
      " |  ----------------------------------------------------------------------\n",
      " |  Data descriptors defined here:\n",
      " |  \n",
      " |  __self__\n",
      " |      the instance invoking super(); may be None\n",
      " |  \n",
      " |  __self_class__\n",
      " |      the type of the instance invoking super(); may be None\n",
      " |  \n",
      " |  __thisclass__\n",
      " |      the class invoking super()\n",
      "\n"
     ]
    }
   ],
   "source": [
    "print(type(super))\n",
    "help(super)"
   ]
  }
 ],
 "metadata": {
  "kernelspec": {
   "display_name": "Python 3",
   "language": "python",
   "name": "python3"
  },
  "language_info": {
   "codemirror_mode": {
    "name": "ipython",
    "version": 3
   },
   "file_extension": ".py",
   "mimetype": "text/x-python",
   "name": "python",
   "nbconvert_exporter": "python",
   "pygments_lexer": "ipython3",
   "version": "3.6.4"
  }
 },
 "nbformat": 4,
 "nbformat_minor": 2
}
