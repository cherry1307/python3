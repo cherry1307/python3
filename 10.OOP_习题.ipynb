{
 "cells": [
  {
   "cell_type": "code",
   "execution_count": 30,
   "metadata": {},
   "outputs": [
    {
     "name": "stdout",
     "output_type": "stream",
     "text": [
      "请输入一个三位数：100\n"
     ]
    }
   ],
   "source": [
    "# random案例\n",
    "\n",
    "import math\n",
    "import random\n",
    "\n",
    "'''输入一个三位数，与程序随机数比较大小，\n",
    "    如果大于，分别输出这个三位数的个位、十位、百位\n",
    "    如果等于，则提示中奖\n",
    "    如果小于，则将120个字符输入到文本文件中\n",
    "    （规则是每一条字符串的长度为12，单独占一行并且前四个是字母。后八个是数字）\n",
    "'''\n",
    "\n",
    "\n",
    "def line():\n",
    "    # 定义一个空字符串用于拼接字母\n",
    "    str_num = ''\n",
    "    # 循环前四个随机字母（用ascii码对应的值来随机，之后转换为字母）\n",
    "    for i in range(4):\n",
    "        # 随机小写字母的ascii码\n",
    "        num = random.randrange(97, 123)\n",
    "        # 将ascii转换成对应字母\n",
    "        str_s = chr(num)\n",
    "        # 一次拼接得到的随机字母\n",
    "        str_num = str_num + str_s\n",
    "\n",
    "    # 循环后8个随机数字\n",
    "    for i in range(8):\n",
    "        num = random.randrange(0, 10)\n",
    "        str_num = str_num + str(num)\n",
    "    # print(str_num)\n",
    "    return str_num\n",
    "\n",
    "#定义一个变量，用于存取初始分值\n",
    "source = 0\n",
    "#定义一个变量用于累积输入了多少次\n",
    "total = 0\n",
    "def num_game(source,total):\n",
    "    while 1:\n",
    "\n",
    "        # input()输入函数\n",
    "        num = input(\"请输入一个三位数，输入-1结束：\")\n",
    "        if num == '-1':\n",
    "            break\n",
    "        # 程序随机数\n",
    "        random_num = random.randrange(100, 1000)\n",
    "\n",
    "        # 判断输入字符是否为纯数字;#输入字符类型，若不强制转换，则会报错\n",
    "        if num.isdigit() and 999 >= int(num) >= 100:\n",
    "            #计算有效输入次数\n",
    "            total += 1\n",
    "            print(\"输入%d次\"%total)\n",
    "            num = int(num)\n",
    "            random_num = int(random_num)\n",
    "            # 输入的数与系统随机数比较大小\n",
    "\n",
    "            # 大于，分别输出这个三位数的个位、十位、百位\n",
    "            if num > random_num:\n",
    "                # 求百位数的方法是：地板除100或用数学模块中的floor（）函数\n",
    "                bai = num // 100\n",
    "\n",
    "                # 求十位数的方法是：先跟100取余，再地板除以10\n",
    "                shi = num % 100 // 10\n",
    "\n",
    "                # 求个位数的方法是：跟10取余\n",
    "                ge = num % 10\n",
    "                print(\"你输入的数比随机数大，随机数为\", random_num)\n",
    "                print(\"这个三位数的个位是{0}，十位是{1}，百位是{2}\".format(ge, shi, bai))\n",
    "\n",
    "                # 等于，则提示中奖\n",
    "            if num == random_num:\n",
    "                print(\"你中奖啦！！！目前分数为\",source)\n",
    "                print(\"你中奖的概率是\",source/total)\n",
    "\n",
    "            # 小于，则将120个字符输入到文本文件中\n",
    "            if num < random_num:\n",
    "                #所得的分数\n",
    "                source += 100\n",
    "                print(\"你输入的数比随机数小，随机数为\", random_num)\n",
    "                # 由于120个字符，每行12个可知，只需要传入10次\n",
    "                for i in range(10):\n",
    "                    str_line = line()\n",
    "                    # print(str_line)\n",
    "                    with open('str_num.txt', 'w')as f:\n",
    "                        f.write(str_line + '\\n')\n",
    "\n",
    "        else:\n",
    "\n",
    "            print(\"请按规定输入！\")\n",
    " #程序入口\n",
    "if __name__ == '__main__':\n",
    "    source = 0\n",
    "    total = 0\n",
    "    num_game(source,total)\n"
   ]
  },
  {
   "cell_type": "code",
   "execution_count": 14,
   "metadata": {},
   "outputs": [
    {
     "name": "stdout",
     "output_type": "stream",
     "text": [
      "0.5\n",
      "0\n",
      "5\n",
      "###########################################################\n",
      "2.5\n",
      "2\n",
      "5\n",
      "###########################################################\n",
      "2\n",
      "5\n",
      "3\n"
     ]
    }
   ],
   "source": [
    "a = 5\n",
    "print(a/10)\n",
    "#地板除（功能类似与数学模块当中的floor（）向下取整操作\n",
    "print(a//10)\n",
    "print(a%10)\n",
    "print(\"#\"*59)\n",
    "b = 25\n",
    "\n",
    "print(b/10)\n",
    "print(b//10)\n",
    "print(b%10)\n",
    "print(\"#\"*59)\n",
    "c = 235\n",
    "\n",
    "\n",
    "print(c//100)\n",
    "print(c%10)\n",
    "c = c%100\n",
    "print(c//10)\n",
    "\n",
    "\n"
   ]
  },
  {
   "cell_type": "code",
   "execution_count": 24,
   "metadata": {},
   "outputs": [
    {
     "name": "stdout",
     "output_type": "stream",
     "text": [
      "65\n",
      "66\n",
      "67\n",
      "###########################################################\n",
      "A\n"
     ]
    }
   ],
   "source": [
    "#ascii码表转数字\n",
    "\n",
    "print(ord('A'))\n",
    "print(ord('B'))\n",
    "print(ord('C'))\n",
    "print(\"#\"*59)\n",
    "\n",
    "\n",
    "#数字转ascii码\n",
    "\n",
    "print(chr(65))"
   ]
  }
 ],
 "metadata": {
  "kernelspec": {
   "display_name": "Python 3",
   "language": "python",
   "name": "python3"
  },
  "language_info": {
   "codemirror_mode": {
    "name": "ipython",
    "version": 3
   },
   "file_extension": ".py",
   "mimetype": "text/x-python",
   "name": "python",
   "nbconvert_exporter": "python",
   "pygments_lexer": "ipython3",
   "version": "3.6.4"
  }
 },
 "nbformat": 4,
 "nbformat_minor": 2
}
