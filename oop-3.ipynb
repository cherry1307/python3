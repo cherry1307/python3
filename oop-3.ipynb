{
 "cells": [
  {
   "cell_type": "code",
   "execution_count": 3,
   "metadata": {},
   "outputs": [
    {
     "name": "stdout",
     "output_type": "stream",
     "text": [
      "(<class '__main__.A'>, <class 'object'>)\n",
      "(<class '__main__.B'>, <class '__main__.A'>, <class 'object'>)\n"
     ]
    }
   ],
   "source": [
    "class A():\n",
    "    pass\n",
    "class B(A):\n",
    "    pass\n",
    "class C(B,A):\n",
    "    pass\n",
    "print(A.__mro__)\n",
    "print(B.__mro__)\n",
    "    "
   ]
  },
  {
   "cell_type": "code",
   "execution_count": 6,
   "metadata": {},
   "outputs": [
    {
     "name": "stdout",
     "output_type": "stream",
     "text": [
      "I am flying……\n",
      "I am swimming……\n"
     ]
    }
   ],
   "source": [
    "#多继承的例子\n",
    "#子类可以直接拥有父类的属性和方法，私有属性和方法除外\n",
    "class fish():\n",
    "    def __init__(self,name):\n",
    "        self.name = name\n",
    "        \n",
    "    def swim(self):\n",
    "        print(\"I am swimming……\")\n",
    "    \n",
    "class bird():\n",
    "    def __init__(self,name):\n",
    "        self.name = name\n",
    "        \n",
    "    def fly(self):\n",
    "        print(\"I am flying……\")\n",
    "    \n",
    "class person():\n",
    "    def __init__(self,name):\n",
    "        self.name = name\n",
    "        \n",
    "    def work(self):\n",
    "        print(\"I am working……\")\n",
    "class superman(person,bird,fish):#继承有顺序\n",
    "    def __init__(self,name):\n",
    "        self.name = name\n",
    "\n",
    "\n",
    "s = superman(\"yueyue\")\n",
    "s.fly()\n",
    "s.swim()\n",
    "    \n",
    "    "
   ]
  },
  {
   "cell_type": "code",
   "execution_count": 7,
   "metadata": {},
   "outputs": [
    {
     "name": "stdout",
     "output_type": "stream",
     "text": [
      "I am working……\n"
     ]
    }
   ],
   "source": [
    "#单继承的例子\n",
    "#子类可以直接拥有父类的属性和方法，私有属性和方法除外\n",
    "class fish():\n",
    "    def __init__(self,name):\n",
    "        self.name = name\n",
    "        \n",
    "    def swim(self):\n",
    "        print(\"I am swimming……\")\n",
    "    \n",
    "class bird():\n",
    "    def __init__(self,name):\n",
    "        self.name = name\n",
    "        \n",
    "    def fly(self):\n",
    "        print(\"I am flying……\")\n",
    "    \n",
    "class person():\n",
    "    def __init__(self,name):\n",
    "        self.name = name\n",
    "        \n",
    "    def work(self):\n",
    "        print(\"I am working……\")\n",
    "        \n",
    "class student(person):\n",
    "    def __init__(self,name):\n",
    "        self.name = name\n",
    "\n",
    "\n",
    "s = student(\"yueyue\")\n",
    "s.work()\n",
    "    "
   ]
  },
  {
   "cell_type": "code",
   "execution_count": 8,
   "metadata": {},
   "outputs": [],
   "source": [
    "#菱形问题\n",
    "class a():\n",
    "    pass\n",
    "class b(a):\n",
    "    pass\n",
    "class c(a):\n",
    "    pass\n",
    "class d(b,c):\n",
    "    pass\n",
    "\n"
   ]
  },
  {
   "cell_type": "code",
   "execution_count": 9,
   "metadata": {},
   "outputs": [
    {
     "name": "stdout",
     "output_type": "stream",
     "text": [
      "In Init Function\n"
     ]
    }
   ],
   "source": [
    "#构造函数例子\n",
    "class person():\n",
    "    #对person类进行实例化的时候\n",
    "    #姓名确定\n",
    "    #年龄确定\n",
    "    #地址要有\n",
    "    def __init__(self):\n",
    "        self.name = \"noname\"\n",
    "        self.age = 18\n",
    "        self.address = \"student_dormitory\"\n",
    "        print(\"In Init Function\")\n",
    "\n",
    "\n",
    "#实例化一个人\n",
    "p = person()"
   ]
  },
  {
   "cell_type": "code",
   "execution_count": 16,
   "metadata": {},
   "outputs": [
    {
     "name": "stdout",
     "output_type": "stream",
     "text": [
      "B\n"
     ]
    }
   ],
   "source": [
    "# 构造函数的调用顺序 - 1\n",
    "# 如果子类没有写构造函数，则自动向上查找，知道找到位置\n",
    "class A():\n",
    "    def __init__(self):\n",
    "        print(\"A\")\n",
    "\n",
    "class B(A):\n",
    "    def __init__(self):\n",
    "        print(\"B\")\n",
    "        \n",
    "class C(B):\n",
    "    pass\n",
    "\n",
    "# 此时，首先查找C的构造函数\n",
    "# 如果没有，则向上按照MRO顺序查找父类的构造函数，知道找到为止\n",
    "c = C()"
   ]
  },
  {
   "cell_type": "code",
   "execution_count": 18,
   "metadata": {},
   "outputs": [
    {
     "ename": "TypeError",
     "evalue": "__init__() missing 1 required positional argument: 'name'",
     "output_type": "error",
     "traceback": [
      "\u001b[1;31m---------------------------------------------------------------------------\u001b[0m",
      "\u001b[1;31mTypeError\u001b[0m                                 Traceback (most recent call last)",
      "\u001b[1;32m<ipython-input-18-dd7f592ea561>\u001b[0m in \u001b[0;36m<module>\u001b[1;34m()\u001b[0m\n\u001b[0;32m     14\u001b[0m \u001b[1;31m# 此时，首先查找C的构造函数\u001b[0m\u001b[1;33m\u001b[0m\u001b[1;33m\u001b[0m\u001b[0m\n\u001b[0;32m     15\u001b[0m \u001b[1;31m# 如果没有，则向上按照MRO顺序查找父类的构造函数，知道找到为止\u001b[0m\u001b[1;33m\u001b[0m\u001b[1;33m\u001b[0m\u001b[0m\n\u001b[1;32m---> 16\u001b[1;33m \u001b[0mc\u001b[0m \u001b[1;33m=\u001b[0m \u001b[0mC\u001b[0m\u001b[1;33m(\u001b[0m\u001b[1;33m)\u001b[0m\u001b[1;33m\u001b[0m\u001b[0m\n\u001b[0m",
      "\u001b[1;31mTypeError\u001b[0m: __init__() missing 1 required positional argument: 'name'"
     ]
    }
   ],
   "source": [
    "# 构造函数的调用顺序 - 2\n",
    "# 如果子类没有写构造函数，则自动向上查找，知道找到位置\n",
    "class A():\n",
    "    def __init__(self):\n",
    "        print(\"A\")\n",
    "\n",
    "class B(A):\n",
    "    def __init__(self,name):\n",
    "        print(\"B\")\n",
    "        \n",
    "class C(B):\n",
    "    pass\n",
    "\n",
    "# 此时，首先查找C的构造函数\n",
    "# 如果没有，则向上按照MRO顺序查找父类的构造函数，知道找到为止\n",
    "# 此时，会出现参数结构不对应错误\n",
    "c = C()"
   ]
  },
  {
   "cell_type": "code",
   "execution_count": 26,
   "metadata": {},
   "outputs": [
    {
     "name": "stdout",
     "output_type": "stream",
     "text": [
      "B\n",
      "I am C\n",
      "this is additional function in c\n"
     ]
    }
   ],
   "source": [
    "# 构造函数的调用顺序 - 3\n",
    "# 如果子类没有写构造函数，则自动向上查找，知道找到位置\n",
    "class A():\n",
    "    def __init__(self):\n",
    "        print(\"A\")\n",
    "\n",
    "class B(A):\n",
    "    def __init__(self,name):\n",
    "        print(\"B\")\n",
    "        print(name)\n",
    "        \n",
    "class C(B):\n",
    "        #C中想扩展B的构造函数，即调用B的构造函数后添加一些功能\n",
    "        #两种方法\n",
    "         #第一种:通过父类名调用\n",
    "    def __init__(self,name):\n",
    "        #首先调用父类构造函数\n",
    "        B.__init__(self,name)\n",
    "        #其次，再添加自己的功能\n",
    "        print(\"this is additional function in c\")\n",
    "# 此时，首先查找C的构造函数\n",
    "# 如果没有，则向上按照MRO顺序查找父类的构造函数，知道找到为止\n",
    "c = C(\"I am C\")"
   ]
  },
  {
   "cell_type": "code",
   "execution_count": 28,
   "metadata": {},
   "outputs": [
    {
     "name": "stdout",
     "output_type": "stream",
     "text": [
      "B\n",
      "I am C\n",
      "this is additional function in c\n"
     ]
    }
   ],
   "source": [
    "# 构造函数的调用顺序 - 3\n",
    "# 如果子类没有写构造函数，则自动向上查找，知道找到位置\n",
    "class A():\n",
    "    def __init__(self):\n",
    "        print(\"A\")\n",
    "\n",
    "class B(A):\n",
    "    def __init__(self,name):\n",
    "        print(\"B\")\n",
    "        print(name)\n",
    "        \n",
    "class C(B):\n",
    "        #C中想扩展B的构造函数，即调用B的构造函数后添加一些功能\n",
    "        #两种方法\n",
    "        \n",
    "        #第二种:使用super调用\n",
    "    def __init__(self,name):\n",
    "        #首先调用父类构造函数\n",
    "        super(C,self).__init__(name)\n",
    "        #其次，再添加自己的功能\n",
    "        print(\"this is additional function in c\")\n",
    "   \n",
    "# 此时，首先查找C的构造函数\n",
    "# 如果没有，则向上按照MRO顺序查找父类的构造函数，知道找到为止\n",
    "c = C(\"I am C\")"
   ]
  },
  {
   "cell_type": "code",
   "execution_count": 31,
   "metadata": {},
   "outputs": [
    {
     "name": "stdout",
     "output_type": "stream",
     "text": [
      "(<class '__main__.tutor'>, <class '__main__.teacher'>, <class '__main__.person'>, <class 'object'>)\n",
      "{}\n",
      "{'__module__': '__main__', '__doc__': None}\n",
      "##################################################\n",
      "(<class '__main__.tutorm'>, <class '__main__.person'>, <class '__main__.teachermixin'>, <class '__main__.studentmixin'>, <class 'object'>)\n",
      "{}\n",
      "{'__module__': '__main__', '__doc__': None}\n"
     ]
    }
   ],
   "source": [
    "#Minxin案例\n",
    "class person():\n",
    "    name = \"dana\"\n",
    "    age = 18\n",
    "    def eat(self):\n",
    "        print(\"EAT……\")\n",
    "    def drink(self):\n",
    "        print(\"DRINK……\")      \n",
    "    def sleep(self):\n",
    "        print(\"SLEEP……\")  \n",
    "        \n",
    "class teacher(person):\n",
    "    def work(self):\n",
    "        print(\"WORK……\")\n",
    "        \n",
    "class student(person):\n",
    "    def study(self):\n",
    "        print(\"STUDY……\")\n",
    "        \n",
    "class tutor(teacher,person):\n",
    "    pass\n",
    "    \n",
    "t = tutor()\n",
    "print(tutor.__mro__)\n",
    "print(t.__dict__)\n",
    "print(tutor.__dict__)\n",
    "\n",
    "print(\"#\"*50)\n",
    "\n",
    "#Minxin案例\n",
    "\n",
    "class teachermixin():\n",
    "    def work(self):\n",
    "        print(\"WORK……\")\n",
    "        \n",
    "class studentmixin():\n",
    "    def study(self):\n",
    "        print(\"STUDY……\")\n",
    "        \n",
    "class tutorm(person,teachermixin,studentmixin):\n",
    "    pass\n",
    "    \n",
    "tt = tutorm()\n",
    "print(tutorm.__mro__)\n",
    "print(tt.__dict__)\n",
    "print(tutorm.__dict__)"
   ]
  },
  {
   "cell_type": "code",
   "execution_count": 33,
   "metadata": {},
   "outputs": [
    {
     "name": "stdout",
     "output_type": "stream",
     "text": [
      "True\n",
      "False\n",
      "True\n"
     ]
    }
   ],
   "source": [
    "#issubclass\n",
    "class a():\n",
    "    pass\n",
    "class b(a):\n",
    "    pass\n",
    "class c():\n",
    "    pass\n",
    "print(issubclass(b,a))\n",
    "print(issubclass(c,a))\n",
    "print(issubclass(b,object))"
   ]
  },
  {
   "cell_type": "code",
   "execution_count": 34,
   "metadata": {},
   "outputs": [
    {
     "name": "stdout",
     "output_type": "stream",
     "text": [
      "True\n",
      "False\n"
     ]
    }
   ],
   "source": [
    "#isinstance\n",
    "class A():\n",
    "    pass\n",
    "a = A()\n",
    "print(isinstance(a,A))\n",
    "print(isinstance(A,A))\n"
   ]
  },
  {
   "cell_type": "code",
   "execution_count": 36,
   "metadata": {},
   "outputs": [
    {
     "name": "stdout",
     "output_type": "stream",
     "text": [
      "True\n",
      "False\n"
     ]
    }
   ],
   "source": [
    "#hasattr\n",
    "class A():\n",
    "    name = \"noname\"\n",
    "    \n",
    "a = A()\n",
    "print(hasattr(a,\"name\"))\n",
    "print(hasattr(a,\"age\"))"
   ]
  },
  {
   "cell_type": "code",
   "execution_count": 37,
   "metadata": {},
   "outputs": [
    {
     "name": "stdout",
     "output_type": "stream",
     "text": [
      "Help on built-in function setattr in module builtins:\n",
      "\n",
      "setattr(obj, name, value, /)\n",
      "    Sets the named attribute on the given object to the specified value.\n",
      "    \n",
      "    setattr(x, 'y', v) is equivalent to ``x.y = v''\n",
      "\n"
     ]
    }
   ],
   "source": [
    "#help案例\n",
    "#我想知道setattr的具体通用法\n",
    "help(setattr)"
   ]
  },
  {
   "cell_type": "code",
   "execution_count": 41,
   "metadata": {},
   "outputs": [
    {
     "name": "stdout",
     "output_type": "stream",
     "text": [
      "['__class__', '__delattr__', '__dict__', '__dir__', '__doc__', '__eq__', '__format__', '__ge__', '__getattribute__', '__gt__', '__hash__', '__init__', '__init_subclass__', '__le__', '__lt__', '__module__', '__ne__', '__new__', '__reduce__', '__reduce_ex__', '__repr__', '__setattr__', '__sizeof__', '__str__', '__subclasshook__', '__weakref__']\n",
      "['__class__', '__delattr__', '__dict__', '__dir__', '__doc__', '__eq__', '__format__', '__ge__', '__getattribute__', '__gt__', '__hash__', '__init__', '__init_subclass__', '__le__', '__lt__', '__module__', '__ne__', '__new__', '__reduce__', '__reduce_ex__', '__repr__', '__setattr__', '__sizeof__', '__str__', '__subclasshook__', '__weakref__']\n"
     ]
    }
   ],
   "source": [
    "#dir案例\n",
    "\n",
    "class A():\n",
    "    pass\n",
    "print(dir(A))\n",
    "a = A()\n",
    "print(dir(a))"
   ]
  }
 ],
 "metadata": {
  "kernelspec": {
   "display_name": "Python 3",
   "language": "python",
   "name": "python3"
  },
  "language_info": {
   "codemirror_mode": {
    "name": "ipython",
    "version": 3
   },
   "file_extension": ".py",
   "mimetype": "text/x-python",
   "name": "python",
   "nbconvert_exporter": "python",
   "pygments_lexer": "ipython3",
   "version": "3.6.4"
  }
 },
 "nbformat": 4,
 "nbformat_minor": 2
}
