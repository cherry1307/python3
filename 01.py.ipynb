{
 "cells": [
  {
   "cell_type": "code",
   "execution_count": null,
   "metadata": {},
   "outputs": [],
   "source": [
    "'''\n",
    "定义一个学生类，用来形容学生\n",
    "'''\n",
    "# 定义一个空的类\n",
    "\n",
    "class Student():\n",
    "    #一个空类，pass代表直接跳过\n",
    "    pass\n",
    "\n",
    "\n",
    "#定义一个对象\n",
    "mingyue = Student()\n",
    "\n",
    "#再定义一个类，用来描述听课的学生\n",
    "class PythonStudent():\n",
    "    #用None给不确定的值赋值\n",
    "    name = None\n",
    "    age = 18\n",
    "    course = \"Python\"\n",
    "\n",
    "    #需要注意的是\n",
    "    #1.def doHomework的缩进层级\n",
    "    #2.系统默认由一个self参数\n",
    "    def doHomework(self):\n",
    "        print(\"I 在做作业\")\n",
    "\n",
    "\n",
    "        #推荐在函数末尾加return语句\n",
    "        return None\n",
    "#实例化一个叫yueyue的学生，是一个具体的人\n",
    "yueyue = PythonStudent()\n",
    "print(yueyue.name)\n",
    "print(yueyue.age)\n",
    "\n",
    "#注意成员函数的调用没有传递进入参数\n",
    "yueyue.doHomework(）\n",
    "\n",
    "\n"
   ]
  }
 ],
 "metadata": {
  "kernelspec": {
   "display_name": "Python 3",
   "language": "python",
   "name": "python3"
  },
  "language_info": {
   "codemirror_mode": {
    "name": "ipython",
    "version": 3
   },
   "file_extension": ".py",
   "mimetype": "text/x-python",
   "name": "python",
   "nbconvert_exporter": "python",
   "pygments_lexer": "ipython3",
   "version": "3.6.4"
  }
 },
 "nbformat": 4,
 "nbformat_minor": 2
}
